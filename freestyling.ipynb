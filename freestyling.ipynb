{
 "cells": [
  {
   "cell_type": "code",
   "execution_count": 110,
   "metadata": {},
   "outputs": [],
   "source": [
    "import pandas as pd\n",
    "import requests\n",
    "from bs4 import BeautifulSoup\n",
    "import csv\n",
    "import regex as re\n",
    "import json\n",
    "import unicodedata\n",
    "import seaborn as sns\n",
    "import matplotlib.pyplot as plt\n",
    "import networkx as nx \n",
    "from collections import Counter\n",
    "from Functions import DataCollection, DataCleaning, GetConnectedMoviesArtist\n",
    "import numpy as np"
   ]
  },
  {
   "cell_type": "code",
   "execution_count": 111,
   "metadata": {},
   "outputs": [],
   "source": [
    "with open('connected_movies_and_casts.json', 'r') as file:\n",
    "    connected_movies = json.load(file)"
   ]
  },
  {
   "cell_type": "code",
   "execution_count": 112,
   "metadata": {},
   "outputs": [],
   "source": [
    "df_movies = pd.read_json('df_movies.json', orient='table')"
   ]
  },
  {
   "cell_type": "code",
   "execution_count": 113,
   "metadata": {},
   "outputs": [
    {
     "data": {
      "text/plain": [
       "(5780, 7)"
      ]
     },
     "execution_count": 113,
     "metadata": {},
     "output_type": "execute_result"
    }
   ],
   "source": [
    "df_movies.shape"
   ]
  },
  {
   "cell_type": "markdown",
   "metadata": {},
   "source": [
    "# Network Creation"
   ]
  },
  {
   "cell_type": "code",
   "execution_count": 116,
   "metadata": {},
   "outputs": [],
   "source": [
    "# Create undirected Graph\n",
    "G_movies = nx.Graph()\n",
    "\n",
    "# Adding nodes\n",
    "movies_nodes = list(connected_movies.keys())\n",
    "G_movies.add_nodes_from(movies_nodes)\n",
    "\n",
    "node_attr = df_movies[['Title','Director','Cast','Country','Genre', \n",
    "                'Year']].set_index('Title').to_dict('index') # Creating a dictionary with the characters and their attributes\n",
    "\n",
    "nx.set_node_attributes(G_movies, node_attr) #Adding attributes to the graph\n",
    "\n",
    "for movie in connected_movies.keys():\n",
    "    for connected_movie in connected_movies[movie]: \n",
    "        weight = len(connected_movies[movie][connected_movie])\n",
    "        attribute_value = connected_movies[movie][connected_movie]\n",
    "        G_movies.add_edges_from([(movie, connected_movie)], weight=weight, attribute_name=attribute_value)"
   ]
  },
  {
   "cell_type": "code",
   "execution_count": 117,
   "metadata": {},
   "outputs": [
    {
     "name": "stdout",
     "output_type": "stream",
     "text": [
      "{'weight': 3, 'attribute_name': ['michele morrone', 'anna-maria sieklucka', 'magdalena lamparska']}\n"
     ]
    }
   ],
   "source": [
    "print(G_movies.edges[\"365 Days: This Day\", \"365 Days\"])"
   ]
  },
  {
   "cell_type": "code",
   "execution_count": 118,
   "metadata": {},
   "outputs": [
    {
     "name": "stdout",
     "output_type": "stream",
     "text": [
      "{'Director': 'barbara biaowas,tomasz mandes', 'Cast': 'anna-maria sieklucka,michele morrone, rebecca casiraghi,magdalena lamparska', 'Country': 'europe', 'Genre': 'Thriller', 'Year': '2022'}\n"
     ]
    }
   ],
   "source": [
    "print(G_movies.nodes[\"365 Days: This Day\"])"
   ]
  },
  {
   "cell_type": "markdown",
   "metadata": {},
   "source": [
    "# Network Analysis"
   ]
  },
  {
   "cell_type": "code",
   "execution_count": 119,
   "metadata": {},
   "outputs": [
    {
     "name": "stdout",
     "output_type": "stream",
     "text": [
      "The network consist of:  5780  nodes (Movies)\n",
      "The network consist of:  37253  edges\n"
     ]
    }
   ],
   "source": [
    "print(\"The network consist of: \", G_movies.number_of_nodes(), \" nodes (Movies)\")\n",
    "print(\"The network consist of: \", G_movies.number_of_edges(), \" edges\")"
   ]
  },
  {
   "cell_type": "markdown",
   "metadata": {},
   "source": [
    "# Largest Connected Component"
   ]
  },
  {
   "cell_type": "code",
   "execution_count": 120,
   "metadata": {},
   "outputs": [],
   "source": [
    "#Extracting the largest component\n",
    "connected_components = nx.connected_components(G_movies)\n",
    "# Finding the largest connected component\n",
    "largest_cc = max(connected_components, key=len)\n",
    "# Creating a subgraph for the largest connected component\n",
    "G_largest_cc = G_movies.subgraph(largest_cc).copy()"
   ]
  },
  {
   "cell_type": "code",
   "execution_count": 121,
   "metadata": {},
   "outputs": [
    {
     "name": "stdout",
     "output_type": "stream",
     "text": [
      "The largest connected component network consist of:  4422  nodes (Movies)\n",
      "The largest connected component network consist of:  36958  edges\n"
     ]
    }
   ],
   "source": [
    "print(\"The largest connected component network consist of: \", G_largest_cc.number_of_nodes(), \" nodes (Movies)\")\n",
    "print(\"The largest connected component network consist of: \", G_largest_cc.number_of_edges(), \" edges\")"
   ]
  },
  {
   "cell_type": "markdown",
   "metadata": {},
   "source": [
    "## Density (average degree)"
   ]
  },
  {
   "cell_type": "code",
   "execution_count": 122,
   "metadata": {},
   "outputs": [
    {
     "name": "stdout",
     "output_type": "stream",
     "text": [
      "The average degree of the GCC is: 17\n"
     ]
    }
   ],
   "source": [
    "print(\"The average degree of the GCC is:\", round(sum(dict(G_largest_cc.degree()).values())/len(G_largest_cc.degree)))"
   ]
  },
  {
   "cell_type": "code",
   "execution_count": 123,
   "metadata": {},
   "outputs": [
    {
     "data": {
      "image/png": "[encoded data removed]",
      "text/plain": [
       "<Figure size 1728x432 with 2 Axes>"
      ]
     },
     "metadata": {
      "needs_background": "light"
     },
     "output_type": "display_data"
    }
   ],
   "source": [
    "# Calculating degrees for each node\n",
    "degrees = [G_largest_cc.degree(n) for n in G_largest_cc.nodes()]\n",
    "\n",
    "# Convert the degrees list to a DataFrame\n",
    "degrees_df = pd.DataFrame(degrees, columns=['Degree'])\n",
    "\n",
    "# Set up the matplotlib figure\n",
    "plt.figure(figsize=(24, 6))\n",
    "\n",
    "# First subplot for the regular scale histogram\n",
    "plt.subplot(1, 2, 1)  # 1 row, 2 columns, 1st subplot\n",
    "sns.distplot(degrees_df['Degree'], kde=False, color='darkblue', hist_kws={'edgecolor':'white'})\n",
    "plt.title('Degree Distribution - Linear Scale', fontweight=\"bold\", fontsize=16)\n",
    "plt.xlabel('Degree', fontsize=14)\n",
    "plt.ylabel('Number of Nodes', fontsize=14)\n",
    "\n",
    "# Second subplot for the logarithmic scale histogram\n",
    "plt.subplot(1, 2, 2)\n",
    "plt.scatter(degree_counts['Degree'], degree_counts['Count'])\n",
    "plt.title('Degree Distribution - Log Scale (Points)', fontweight=\"bold\", fontsize=16)\n",
    "plt.xlabel('Degree', fontsize=14)\n",
    "plt.ylabel('Number of Nodes', fontsize=14)\n",
    "plt.yscale('log')\n",
    "\n",
    "# Show the plot\n",
    "plt.show()\n"
   ]
  },
  {
   "cell_type": "markdown",
   "metadata": {},
   "source": [
    "## Degree distribution"
   ]
  },
  {
   "cell_type": "code",
   "execution_count": 124,
   "metadata": {},
   "outputs": [
    {
     "data": {
      "text/plain": [
       "Horror             1860\n",
       "Comedy             1051\n",
       "Action              874\n",
       "Science Fiction     579\n",
       "Adventure           501\n",
       "Thriller            453\n",
       "Fantasy             373\n",
       "Mix                  89\n",
       "Name: Genre, dtype: int64"
      ]
     },
     "execution_count": 124,
     "metadata": {},
     "output_type": "execute_result"
    }
   ],
   "source": [
    "df_movies['Genre'].value_counts()"
   ]
  },
  {
   "cell_type": "code",
   "execution_count": 125,
   "metadata": {},
   "outputs": [],
   "source": [
    "# Saving nodes in lists according to their genre\n",
    "n_horror = [x for x,y in G_largest_cc.nodes(data=True) if y['Genre']=='Horror']\n",
    "n_comedy = [x for x,y in G_largest_cc.nodes(data=True) if y['Genre']=='Comedy']\n",
    "n_action = [x for x,y in G_largest_cc.nodes(data=True) if y['Genre']=='Action']\n",
    "n_scify = [x for x,y in G_largest_cc.nodes(data=True) if y['Genre']=='Science Fiction']\n",
    "n_adventure = [x for x,y in G_largest_cc.nodes(data=True) if y['Genre']=='Adventure']\n",
    "n_thriller = [x for x,y in G_largest_cc.nodes(data=True) if y['Genre']=='Thriller']\n",
    "n_fantasy = [x for x,y in G_largest_cc.nodes(data=True) if y['Genre']=='Fantasy']\n",
    "n_mix = [x for x,y in G_largest_cc.nodes(data=True) if y['Genre']=='Mix']"
   ]
  },
  {
   "cell_type": "code",
   "execution_count": 127,
   "metadata": {},
   "outputs": [],
   "source": [
    "#Degree distribution:\n",
    "deg_horror = np.array(list(dict(G_largest_cc.degree(n_horror)).values()))\n",
    "deg_comedy = np.array(list(dict(G_largest_cc.degree(n_comedy)).values()))\n",
    "deg_action = np.array(list(dict(G_largest_cc.degree(n_action)).values()))\n",
    "deg_scify = np.array(list(dict(G_largest_cc.degree(n_scify)).values()))\n",
    "deg_adventure = np.array(list(dict(G_largest_cc.degree(n_adventure)).values()))\n",
    "deg_thriller = np.array(list(dict(G_largest_cc.degree(n_thriller)).values()))\n",
    "deg_fantasy = np.array(list(dict(G_largest_cc.degree(n_fantasy)).values()))\n",
    "deg_mix = np.array(list(dict(G_largest_cc.degree(n_mix)).values()))\n",
    "\n",
    "#Finding the unique values and how many time they appear \n",
    "values_horror, counts_horror = np.unique(deg_horror, return_counts=True)\n",
    "values_comedy, counts_comedy = np.unique(deg_comedy, return_counts=True)\n",
    "values_action, counts_action = np.unique(deg_action, return_counts=True)\n",
    "values_scify, counts_scify = np.unique(deg_scify, return_counts=True)\n",
    "values_adventure, counts_adventure = np.unique(deg_adventure, return_counts=True)\n",
    "values_thriller, counts_thriller = np.unique(deg_thriller, return_counts=True)\n",
    "values_fantasy, counts_fantasy = np.unique(deg_fantasy, return_counts=True)\n",
    "values_mix, counts_mix = np.unique(deg_mix, return_counts=True)"
   ]
  },
  {
   "cell_type": "code",
   "execution_count": 131,
   "metadata": {},
   "outputs": [
    {
     "data": {
      "image/png": "[encoded data removed]",
      "text/plain": [
       "<Figure size 1440x432 with 1 Axes>"
      ]
     },
     "metadata": {
      "needs_background": "light"
     },
     "output_type": "display_data"
    }
   ],
   "source": [
    "# Sample data for each genre - replace these with your actual data\n",
    "horror_data = pd.DataFrame({'Degree': values_horror, 'Count': counts_horror, 'Genre': 'Horror'})\n",
    "comedy_data = pd.DataFrame({'Degree': values_comedy, 'Count': counts_comedy, 'Genre': 'Comedy'})\n",
    "action_data = pd.DataFrame({'Degree': values_action, 'Count': counts_action, 'Genre': 'Action'})\n",
    "scify_data = pd.DataFrame({'Degree': values_scify, 'Count': counts_scify, 'Genre': 'Scify'})\n",
    "adventure_data = pd.DataFrame({'Degree': values_adventure, 'Count': counts_adventure, 'Genre': 'Adventure'})\n",
    "thriller_data = pd.DataFrame({'Degree': values_thriller, 'Count': counts_thriller, 'Genre': 'Thriller'})\n",
    "fantasy_data = pd.DataFrame({'Degree': values_fantasy, 'Count': counts_fantasy, 'Genre': 'Fantasy'})\n",
    "mix_data = pd.DataFrame({'Degree': values_mix, 'Count': counts_mix, 'Genre': 'Mix'})\n",
    "\n",
    "# Concatenate all DataFrames\n",
    "all_genres_data = pd.concat([horror_data, comedy_data, action_data, scify_data, adventure_data, thriller_data, fantasy_data, mix_data])\n",
    "\n",
    "# Create the plot\n",
    "plt.figure(figsize=(20, 6))\n",
    "sns.lineplot(data=all_genres_data, x='Degree', y='Count', hue='Genre', \n",
    "             palette=['#DA70D6', '#008080', '#4B0082', 'red', 'blue', 'orange', 'black', 'grey'])  # Adjust the palette as needed\n",
    "plt.title(\"Degree Distribution for Each Genre\")\n",
    "plt.xlabel(\"Degree\")\n",
    "plt.ylabel(\"Count\")\n",
    "plt.show()\n"
   ]
  },
  {
   "cell_type": "markdown",
   "metadata": {},
   "source": [
    "### Most connected movies"
   ]
  },
  {
   "cell_type": "code",
   "execution_count": 153,
   "metadata": {},
   "outputs": [
    {
     "name": "stdout",
     "output_type": "stream",
     "text": [
      "Top 10 connected movies:  ['Amsterdam', \"Don't Look Up\", 'Thor: Love and Thunder', 'Avengers: Endgame', 'Dolittle', \"Zack Snyder's Justice League\", 'F9', 'The Avengers', 'Thor: Ragnarok', 'The Croods: A New Age']\n"
     ]
    }
   ],
   "source": [
    "degrees = dict(G_largest_cc.degree())\n",
    "degrees_movies = {node: degree for node, degree in degrees.items()}\n",
    "top_connected = sorted(degrees_movies, key=degrees_movies.get, reverse=True)[:10]\n",
    "print(\"Top 10 connected movies: \", top_connected)"
   ]
  },
  {
   "cell_type": "code",
   "execution_count": 152,
   "metadata": {},
   "outputs": [
    {
     "data": {
      "text/plain": [
       "{'Director': 'david o russell',\n",
       " 'Cast': 'christian bale,margot robbie,john david washington,chris rock,anya taylor-joy,zoe saldana,mike myers,michael shannon,timothy olyphant,andrea riseborough,taylor swift,matthias schoenaerts,alessandro nivola,rami malek,robert de niro',\n",
       " 'Country': 'united states',\n",
       " 'Genre': 'Comedy',\n",
       " 'Year': '2022'}"
      ]
     },
     "execution_count": 152,
     "metadata": {},
     "output_type": "execute_result"
    }
   ],
   "source": [
    "G_largest_cc.nodes['Amsterdam']"
   ]
  },
  {
   "cell_type": "code",
   "execution_count": 169,
   "metadata": {},
   "outputs": [
    {
     "name": "stdout",
     "output_type": "stream",
     "text": [
      "Movie: Amsterdam\n",
      "Directors: david o russell\n",
      "Degree: 113\n",
      "\n",
      "Movie: Don't Look Up\n",
      "Directors: adam mc kay\n",
      "Degree: 104\n",
      "\n",
      "Movie: Thor: Love and Thunder\n",
      "Directors: taika waititi\n",
      "Degree: 103\n",
      "\n",
      "Movie: Avengers: Endgame\n",
      "Directors: anthony and joseph russo\n",
      "Degree: 100\n",
      "\n",
      "Movie: Dolittle\n",
      "Directors: stephen gaghan\n",
      "Degree: 100\n",
      "\n",
      "Movie: Zack Snyder's Justice League\n",
      "Directors: zack snyder\n",
      "Degree: 89\n",
      "\n",
      "Movie: F9\n",
      "Directors: justin lin\n",
      "Degree: 88\n",
      "\n",
      "Movie: The Avengers\n",
      "Directors: joss whedon\n",
      "Degree: 85\n",
      "\n",
      "Movie: Thor: Ragnarok\n",
      "Directors: taika waititi\n",
      "Degree: 85\n",
      "\n",
      "Movie: The Croods: A New Age\n",
      "Directors: joel crawford\n",
      "Degree: 82\n",
      "\n"
     ]
    }
   ],
   "source": [
    "for movie in top_connected:\n",
    "    attributes = G_largest_cc.nodes[movie]\n",
    "    directors = attributes['Director']\n",
    "    #casts = attributes['Cast']\n",
    "    \n",
    "    print(f\"Movie: {movie}\")\n",
    "    print(f\"Directors: {directors}\")\n",
    "   # print(f\"Casts: {casts}\")\n",
    "    print(f\"Degree: {degrees[movie]}\\n\")"
   ]
  },
  {
   "cell_type": "code",
   "execution_count": 167,
   "metadata": {},
   "outputs": [
    {
     "name": "stdout",
     "output_type": "stream",
     "text": [
      "Top Connected Movie: Amsterdam\n",
      "  Cast Member: rami malek, Count: 3\n",
      "  Cast Member: christian bale, Count: 16\n",
      "  Cast Member: michael shannon, Count: 9\n",
      "  Cast Member: matthias schoenaerts, Count: 2\n",
      "  Cast Member: anya taylor-joy, Count: 8\n",
      "  Cast Member: timothy olyphant, Count: 11\n",
      "  Cast Member: robert de niro, Count: 17\n",
      "  Cast Member: margot robbie, Count: 7\n",
      "  Cast Member: zoe saldana, Count: 14\n",
      "  Cast Member: andrea riseborough, Count: 5\n",
      "  Cast Member: chris rock, Count: 9\n",
      "  Cast Member: mike myers, Count: 7\n",
      "  Cast Member: taylor swift, Count: 2\n",
      "  Cast Member: john david washington, Count: 2\n",
      "  Cast Member: alessandro nivola, Count: 1\n",
      "\n",
      "Top Connected Movie: Don't Look Up\n",
      "  Cast Member: tyler perry, Count: 5\n",
      "  Cast Member: ron perlman, Count: 14\n",
      "  Cast Member: cate blanchett, Count: 14\n",
      "  Cast Member: chris evans, Count: 18\n",
      "  Cast Member: leonardo di caprio, Count: 6\n",
      "  Cast Member: tomer sisley, Count: 2\n",
      "  Cast Member: jennifer lawrence, Count: 12\n",
      "  Cast Member: meryl streep, Count: 8\n",
      "  Cast Member: rob morgan, Count: 2\n",
      "  Cast Member: jonah hill, Count: 15\n",
      "  Cast Member: matthew perry, Count: 3\n",
      "  Cast Member: timothee chalamet, Count: 2\n",
      "  Cast Member: scott mescudi, Count: 2\n",
      "  Cast Member: melanie lynskey, Count: 2\n",
      "  Cast Member: himesh patel, Count: 1\n",
      "\n",
      "Top Connected Movie: Thor: Love and Thunder\n",
      "  Cast Member: chris hemsworth, Count: 16\n",
      "  Cast Member: christian bale, Count: 16\n",
      "  Cast Member: vin diesel, Count: 21\n",
      "  Cast Member: jeff goldblum, Count: 12\n",
      "  Cast Member: natalie portman, Count: 13\n",
      "  Cast Member: dave bautista, Count: 12\n",
      "  Cast Member: karen gillan, Count: 6\n",
      "  Cast Member: pom klementieff, Count: 1\n",
      "  Cast Member: chris pratt, Count: 12\n",
      "  Cast Member: jaimie alexander, Count: 3\n",
      "  Cast Member: sean gunn, Count: 1\n",
      "  Cast Member: tessa thompson, Count: 3\n",
      "\n",
      "Top Connected Movie: Avengers: Endgame\n",
      "  Cast Member: chris hemsworth, Count: 16\n",
      "  Cast Member: chris evans, Count: 18\n",
      "  Cast Member: mark ruffalo, Count: 11\n",
      "  Cast Member: josh brolin, Count: 11\n",
      "  Cast Member: scarlett johansson, Count: 19\n",
      "  Cast Member: jeremy renner, Count: 8\n",
      "  Cast Member: robert downey jr, Count: 13\n",
      "  Cast Member: brie larson, Count: 3\n",
      "  Cast Member: paul rudd, Count: 16\n",
      "\n",
      "Top Connected Movie: Dolittle\n",
      "  Cast Member: craig robinson, Count: 6\n",
      "  Cast Member: tom holland, Count: 11\n",
      "  Cast Member: rami malek, Count: 3\n",
      "  Cast Member: ralph fiennes, Count: 13\n",
      "  Cast Member: michael sheen, Count: 5\n",
      "  Cast Member: antonio banderas, Count: 20\n",
      "  Cast Member: kumail nanjiani, Count: 3\n",
      "  Cast Member: octavia spencer, Count: 6\n",
      "  Cast Member: robert downey jr, Count: 13\n",
      "  Cast Member: selena gomez, Count: 6\n",
      "  Cast Member: marion cotillard, Count: 6\n",
      "  Cast Member: john cena, Count: 7\n",
      "  Cast Member: emma thompson, Count: 7\n",
      "\n",
      "Top Connected Movie: Zack Snyder's Justice League\n",
      "  Cast Member: willem dafoe, Count: 16\n",
      "  Cast Member: connie nielsen, Count: 10\n",
      "  Cast Member: amy adams, Count: 11\n",
      "  Cast Member: gal gadot, Count: 7\n",
      "  Cast Member: ben affleck, Count: 17\n",
      "  Cast Member: j k simmons, Count: 6\n",
      "  Cast Member: diane lane, Count: 6\n",
      "  Cast Member: jeremy irons, Count: 6\n",
      "  Cast Member: jason momoa, Count: 6\n",
      "  Cast Member: jesse eisenberg, Count: 7\n",
      "  Cast Member: henry cavill, Count: 7\n",
      "  Cast Member: ezra miller, Count: 3\n",
      "  Cast Member: ray fisher, Count: 1\n",
      "\n",
      "Top Connected Movie: F9\n",
      "  Cast Member: tyrese gibson, Count: 11\n",
      "  Cast Member: charlize theron, Count: 18\n",
      "  Cast Member: helen mirren, Count: 13\n",
      "  Cast Member: vin diesel, Count: 21\n",
      "  Cast Member: michelle rodriguez, Count: 10\n",
      "  Cast Member: sung kang, Count: 3\n",
      "  Cast Member: nathalie emmanuel, Count: 2\n",
      "  Cast Member: jordana brewster, Count: 5\n",
      "  Cast Member: john cena, Count: 7\n",
      "\n",
      "Top Connected Movie: The Avengers\n",
      "  Cast Member: chris hemsworth, Count: 16\n",
      "  Cast Member: chris evans, Count: 18\n",
      "  Cast Member: samuel l jackson, Count: 32\n",
      "  Cast Member: scarlett johansson, Count: 19\n",
      "  Cast Member: robert downey jr, Count: 13\n",
      "\n",
      "Top Connected Movie: Thor: Ragnarok\n",
      "  Cast Member: chris hemsworth, Count: 16\n",
      "  Cast Member: cate blanchett, Count: 14\n",
      "  Cast Member: mark ruffalo, Count: 11\n",
      "  Cast Member: karl urban, Count: 11\n",
      "  Cast Member: anthony hopkins, Count: 10\n",
      "  Cast Member: jeff goldblum, Count: 12\n",
      "  Cast Member: idris elba, Count: 14\n",
      "  Cast Member: tom hiddleston, Count: 6\n",
      "  Cast Member: tessa thompson, Count: 3\n",
      "\n",
      "Top Connected Movie: The Croods: A New Age\n",
      "  Cast Member: ryan reynolds, Count: 21\n",
      "  Cast Member: nicolas cage, Count: 31\n",
      "  Cast Member: emma stone, Count: 6\n",
      "  Cast Member: catherine keener, Count: 9\n",
      "  Cast Member: leslie mann, Count: 8\n",
      "  Cast Member: peter dinklage, Count: 8\n",
      "  Cast Member: clark duke, Count: 1\n",
      "  Cast Member: kelly marie tran, Count: 1\n",
      "\n"
     ]
    }
   ],
   "source": [
    "# Create a dictionary to store cast members and their counts for each top_connected_movie\n",
    "movie_cast_count = {}\n",
    "\n",
    "# Iterate through the movies and their cast lists\n",
    "for top_connected_movie in top_connected:\n",
    "    for movie, cast_list in connected_movies[top_connected_movie].items():\n",
    "        if top_connected_movie not in movie_cast_count:\n",
    "            movie_cast_count[top_connected_movie] = {}\n",
    "        for cast_member in cast_list:\n",
    "            if cast_member in movie_cast_count[top_connected_movie]:\n",
    "                movie_cast_count[top_connected_movie][cast_member][\"Count\"] += 1\n",
    "            else:\n",
    "                movie_cast_count[top_connected_movie][cast_member] = {\"Count\": 1}\n",
    "\n",
    "# Print the cast members, their counts, and associated movies for each top_connected_movie\n",
    "for movie, cast_data in movie_cast_count.items():\n",
    "    print(f\"Top Connected Movie: {movie}\")\n",
    "    for cast_member, data in cast_data.items():\n",
    "        count = data[\"Count\"]\n",
    "        print(f\"  Cast Member: {cast_member}, Count: {count}\")\n",
    "    print()\n"
   ]
  },
  {
   "cell_type": "markdown",
   "metadata": {},
   "source": [
    "### Most connected movies for each genre"
   ]
  },
  {
   "cell_type": "code",
   "execution_count": 141,
   "metadata": {},
   "outputs": [
    {
     "name": "stdout",
     "output_type": "stream",
     "text": [
      "Most connected movie in the 'Thriller' genre: Eastern Promises (Degree: 30)\n",
      "Most connected movie in the 'Science Fiction' genre: Captain America: Civil War (Degree: 40)\n",
      "Most connected movie in the 'Mix' genre: Ghost Rider (Degree: 40)\n",
      "Most connected movie in the 'Comedy' genre: Zoolander (Degree: 56)\n",
      "Most connected movie in the 'Adventure' genre: Reign of Fire (Degree: 54)\n",
      "Most connected movie in the 'Action' genre: Triple Threat (Degree: 65)\n",
      "Most connected movie in the 'Horror' genre: Chillerama (Degree: 38)\n",
      "Most connected movie in the 'Fantasy' genre: Beauty and the Beast bill condon (Degree: 80)\n"
     ]
    }
   ],
   "source": [
    "most_connected_per_genre = {}\n",
    "\n",
    "# Iterate through unique genres in the graph\n",
    "unique_genres = set(nx.get_node_attributes(G_largest_cc, 'Genre').values())\n",
    "for genre in unique_genres:\n",
    "    # Create a subgraph containing only nodes with the current genre\n",
    "    subgraph = G_largest_cc.subgraph([node for node, attributes in G_largest_cc.nodes(data=True) if attributes['Genre'] == genre])\n",
    "    \n",
    "    # Calculate the degree for each node in the subgraph\n",
    "    degrees = dict(subgraph.degree())\n",
    "    \n",
    "    # Find the movie with the highest degree in the subgraph\n",
    "    top_connected = max(degrees, key=degrees.get)\n",
    "    \n",
    "    # Store the result in the most_connected_per_genre dictionary\n",
    "    most_connected_per_genre[genre] = top_connected\n",
    "\n",
    "# Print the most connected movie for each genre\n",
    "for genre, movie in most_connected_per_genre.items():\n",
    "    print(f\"Most connected movie in the '{genre}' genre: {movie} (Degree: {G_largest_cc.degree(movie)})\")\n"
   ]
  },
  {
   "cell_type": "markdown",
   "metadata": {},
   "source": [
    "### Most connected movies over time for each genre"
   ]
  },
  {
   "cell_type": "code",
   "execution_count": 147,
   "metadata": {},
   "outputs": [
    {
     "name": "stdout",
     "output_type": "stream",
     "text": [
      "Most connected movie in the 'Thriller' genre in the decade 2000-2005: Basic (Degree: 53)\n",
      "Most connected movie in the 'Thriller' genre in the decade 2005-2010: The International (Degree: 24)\n",
      "Most connected movie in the 'Thriller' genre in the decade 2010-2015: The Next Three Days (Degree: 44)\n",
      "Most connected movie in the 'Thriller' genre in the decade 2015-2023: Cold Pursuit (Degree: 28)\n",
      "Most connected movie in the 'Science Fiction' genre in the decade 2000-2005: Mission to Mars (Degree: 15)\n",
      "Most connected movie in the 'Science Fiction' genre in the decade 2005-2010: Sunshine (Degree: 35)\n",
      "Most connected movie in the 'Science Fiction' genre in the decade 2010-2015: This Is the End (Degree: 48)\n",
      "Most connected movie in the 'Science Fiction' genre in the decade 2015-2023: Deadpool (Degree: 44)\n",
      "Most connected movie in the 'Mix' genre in the decade 2000-2005: Vanilla Sky (Degree: 37)\n",
      "Most connected movie in the 'Mix' genre in the decade 2005-2010: Children of Men (Degree: 42)\n",
      "Most connected movie in the 'Mix' genre in the decade 2010-2015: The Sorcerer's Apprentice (Degree: 44)\n",
      "Most connected movie in the 'Mix' genre in the decade 2015-2023: Mortal Kombat (Degree: 23)\n",
      "Most connected movie in the 'Comedy' genre in the decade 2000-2005: Zoolander (Degree: 56)\n",
      "Most connected movie in the 'Comedy' genre in the decade 2005-2010: Madagascar (Degree: 47)\n",
      "Most connected movie in the 'Comedy' genre in the decade 2010-2015: Dinner for Schmucks (Degree: 42)\n",
      "Most connected movie in the 'Comedy' genre in the decade 2015-2023: Hubie Halloween (Degree: 50)\n",
      "Most connected movie in the 'Adventure' genre in the decade 2000-2005: U-571 (Degree: 24)\n",
      "Most connected movie in the 'Adventure' genre in the decade 2005-2010: Beowulf & Grendel (Degree: 39)\n",
      "Most connected movie in the 'Adventure' genre in the decade 2010-2015: Rango (Degree: 36)\n",
      "Most connected movie in the 'Adventure' genre in the decade 2015-2023: Star Wars: The Force Awakens (Degree: 26)\n",
      "Most connected movie in the 'Action' genre in the decade 2000-2005: The Duel (Degree: 25)\n",
      "Most connected movie in the 'Action' genre in the decade 2005-2010: SPL: Sha Po Lang (Degree: 41)\n",
      "Most connected movie in the 'Action' genre in the decade 2010-2015: Special ID (Degree: 40)\n",
      "Most connected movie in the 'Action' genre in the decade 2015-2023: Triple Threat (Degree: 65)\n",
      "Most connected movie in the 'Horror' genre in the decade 2000-2005: Citizen Toxie: The Toxic Avenger IV (Degree: 18)\n",
      "Most connected movie in the 'Horror' genre in the decade 2005-2010: Chicago Massacre (Degree: 26)\n",
      "Most connected movie in the 'Horror' genre in the decade 2010-2015: Chillerama (Degree: 38)\n",
      "Most connected movie in the 'Horror' genre in the decade 2015-2023: Prisoners of the Ghostland (Degree: 43)\n",
      "Most connected movie in the 'Fantasy' genre in the decade 2000-2005: Shrek 2 (Degree: 47)\n",
      "Most connected movie in the 'Fantasy' genre in the decade 2005-2010: Charlie and the Chocolate Factory (Degree: 28)\n",
      "Most connected movie in the 'Fantasy' genre in the decade 2010-2015: Clash of the Titans (Degree: 77)\n",
      "Most connected movie in the 'Fantasy' genre in the decade 2015-2023: Thor: Ragnarok (Degree: 85)\n"
     ]
    }
   ],
   "source": [
    "decades = [(2000, 2005), (2005, 2010), (2010, 2015), (2015,2023)]\n",
    "\n",
    "# Create a dictionary to store the most connected movie for each genre and decade\n",
    "most_connected_per_genre_and_decade = {}\n",
    "\n",
    "# Iterate through unique genres in the graph\n",
    "unique_genres = set(nx.get_node_attributes(G_largest_cc, 'Genre').values())\n",
    "for genre in unique_genres:\n",
    "    for decade in decades:\n",
    "        year_start, year_end = map(int, decade)\n",
    "        # Create a subgraph containing only nodes with the current genre and within the current decade\n",
    "        subgraph = G_largest_cc.subgraph([node for node, attributes in G_largest_cc.nodes(data=True) if\n",
    "                              attributes['Genre'] == genre and decade[0] <= int(attributes['Year']) < decade[1]])\n",
    "        \n",
    "        # Calculate the degree for each node in the subgraph\n",
    "        degrees = dict(subgraph.degree())\n",
    "        \n",
    "        if degrees:\n",
    "            # Find the movie with the highest degree in the subgraph\n",
    "            top_connected = max(degrees, key=degrees.get)\n",
    "            \n",
    "            # Store the result in the most_connected_per_genre_and_decade dictionary\n",
    "            most_connected_per_genre_and_decade[(genre, decade)] = top_connected\n",
    "\n",
    "# Print the most connected movie for each genre and decade\n",
    "for (genre, decade), movie in most_connected_per_genre_and_decade.items():\n",
    "    print(f\"Most connected movie in the '{genre}' genre in the decade {decade[0]}-{decade[1]}: {movie} (Degree: {G_largest_cc.degree(movie)})\")\n"
   ]
  },
  {
   "cell_type": "code",
   "execution_count": null,
   "metadata": {},
   "outputs": [],
   "source": []
  },
  {
   "cell_type": "markdown",
   "metadata": {},
   "source": [
    "Overvej: \n",
    "\n",
    "- Backbone \n",
    "- betweenness uge 5\n",
    "- Centrality uge 5\n",
    "\n",
    "\n",
    "to do: \n",
    "- community detecton\n",
    "- plot \n",
    "- "
   ]
  }
 ],
 "metadata": {
  "kernelspec": {
   "display_name": "base",
   "language": "python",
   "name": "python3"
  },
  "language_info": {
   "codemirror_mode": {
    "name": "ipython",
    "version": 3
   },
   "file_extension": ".py",
   "mimetype": "text/x-python",
   "name": "python",
   "nbconvert_exporter": "python",
   "pygments_lexer": "ipython3",
   "version": "3.8.8"
  }
 },
 "nbformat": 4,
 "nbformat_minor": 2
}
