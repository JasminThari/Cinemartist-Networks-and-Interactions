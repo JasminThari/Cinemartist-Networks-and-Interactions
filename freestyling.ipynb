{
 "cells": [
  {
   "cell_type": "code",
   "execution_count": 9,
   "metadata": {},
   "outputs": [],
   "source": [
    "import pandas as pd\n",
    "import requests\n",
    "from bs4 import BeautifulSoup\n",
    "import csv\n",
    "import regex as re\n",
    "import json\n",
    "import unicodedata\n",
    "import seaborn as sns\n",
    "import matplotlib.pyplot as plt\n",
    "import networkx as nx \n",
    "from collections import Counter\n",
    "from Functions import DataCollection, DataCleaning, GetConnectedMoviesArtist\n",
    "import numpy as np"
   ]
  },
  {
   "cell_type": "code",
   "execution_count": 11,
   "metadata": {},
   "outputs": [
    {
     "data": {
      "image/png": "[encoded data removed]",
      "text/plain": [
       "<Figure size 720x144 with 1 Axes>"
      ]
     },
     "metadata": {},
     "output_type": "display_data"
    }
   ],
   "source": [
    "import matplotlib.pyplot as plt\n",
    "import numpy as np\n",
    "\n",
    "# Your color palette\n",
    "colors = ['#DC2026', \"#7E1616\", \"#FFFEAD\", \"#FCC252\", \"#FDFCFA\", \"#C0C1C1\"]\n",
    "#colors = ['#e7dbbe', \"#d6c4a8\", \"#451b10\", \"#872d28\", \"#a91100\"]\n",
    "\n",
    "# Setting up a simple range for bars\n",
    "n = len(colors)\n",
    "x = np.arange(n)\n",
    "\n",
    "# Create a bar plot\n",
    "plt.figure(figsize=(10, 2))  # Wide and short figure\n",
    "plt.bar(x, height=[1]*n, color=colors, width=1.0)  # Bar width covers the whole space\n",
    "\n",
    "# Remove all the axis labels and ticks\n",
    "plt.xticks([])\n",
    "plt.yticks([])\n",
    "plt.box(False)\n",
    "\n",
    "# Show the plot\n",
    "plt.show()\n"
   ]
  },
  {
   "cell_type": "code",
   "execution_count": 4,
   "metadata": {},
   "outputs": [
    {
     "data": {
      "text/html": [
       "<svg  width=\"330\" height=\"55\"><rect x=\"0\" y=\"0\" width=\"55\" height=\"55\" style=\"fill:#e98d6b;stroke-width:2;stroke:rgb(255,255,255)\"/><rect x=\"55\" y=\"0\" width=\"55\" height=\"55\" style=\"fill:#e3685c;stroke-width:2;stroke:rgb(255,255,255)\"/><rect x=\"110\" y=\"0\" width=\"55\" height=\"55\" style=\"fill:#d14a61;stroke-width:2;stroke:rgb(255,255,255)\"/><rect x=\"165\" y=\"0\" width=\"55\" height=\"55\" style=\"fill:#b13c6c;stroke-width:2;stroke:rgb(255,255,255)\"/><rect x=\"220\" y=\"0\" width=\"55\" height=\"55\" style=\"fill:#8f3371;stroke-width:2;stroke:rgb(255,255,255)\"/><rect x=\"275\" y=\"0\" width=\"55\" height=\"55\" style=\"fill:#6c2b6d;stroke-width:2;stroke:rgb(255,255,255)\"/></svg>"
      ],
      "text/plain": [
       "[(0.9155979, 0.55210684, 0.42070204),\n",
       " (0.888292, 0.40830288, 0.36223756),\n",
       " (0.81942908, 0.28911553, 0.38102921),\n",
       " (0.69226314, 0.23413578, 0.42480327),\n",
       " (0.56041794, 0.19845221, 0.44207535),\n",
       " (0.42355299, 0.16934709, 0.42581586)]"
      ]
     },
     "execution_count": 4,
     "metadata": {},
     "output_type": "execute_result"
    }
   ],
   "source": [
    "sns.color_palette(\"flare\", as_cmap=True)\n"
   ]
  },
  {
   "cell_type": "code",
   "execution_count": 5,
   "metadata": {},
   "outputs": [
    {
     "data": {
      "text/html": [
       "<svg  width=\"330\" height=\"55\"><rect x=\"0\" y=\"0\" width=\"55\" height=\"55\" style=\"fill:#e98d6b;stroke-width:2;stroke:rgb(255,255,255)\"/><rect x=\"55\" y=\"0\" width=\"55\" height=\"55\" style=\"fill:#e3685c;stroke-width:2;stroke:rgb(255,255,255)\"/><rect x=\"110\" y=\"0\" width=\"55\" height=\"55\" style=\"fill:#d14a61;stroke-width:2;stroke:rgb(255,255,255)\"/><rect x=\"165\" y=\"0\" width=\"55\" height=\"55\" style=\"fill:#b13c6c;stroke-width:2;stroke:rgb(255,255,255)\"/><rect x=\"220\" y=\"0\" width=\"55\" height=\"55\" style=\"fill:#8f3371;stroke-width:2;stroke:rgb(255,255,255)\"/><rect x=\"275\" y=\"0\" width=\"55\" height=\"55\" style=\"fill:#6c2b6d;stroke-width:2;stroke:rgb(255,255,255)\"/></svg>"
      ],
      "text/plain": [
       "[(0.9155979, 0.55210684, 0.42070204),\n",
       " (0.888292, 0.40830288, 0.36223756),\n",
       " (0.81942908, 0.28911553, 0.38102921),\n",
       " (0.69226314, 0.23413578, 0.42480327),\n",
       " (0.56041794, 0.19845221, 0.44207535),\n",
       " (0.42355299, 0.16934709, 0.42581586)]"
      ]
     },
     "execution_count": 5,
     "metadata": {},
     "output_type": "execute_result"
    }
   ],
   "source": [
    "sns.color_palette(\"flare\")"
   ]
  },
  {
   "cell_type": "code",
   "execution_count": 6,
   "metadata": {},
   "outputs": [
    {
     "data": {
      "image/png": "[encoded data removed]",
      "text/html": [
       "<div style=\"vertical-align: middle;\"><strong>seaborn_cubehelix</strong> </div><div class=\"cmap\"><img alt=\"seaborn_cubehelix colormap\" title=\"seaborn_cubehelix\" style=\"border: 1px solid #555;\" src=\"data:image/png;base64,iVBORw0KGgoAAAANSUhEUgAAAgAAAABACAYAAABsv8+/AAAAIHRFWHRUaXRsZQBzZWFib3JuX2N1YmVoZWxpeCBjb2xvcm1hcCHoIPcAAAAmdEVYdERlc2NyaXB0aW9uAHNlYWJvcm5fY3ViZWhlbGl4IGNvbG9ybWFwGlvH/wAAADB0RVh0QXV0aG9yAE1hdHBsb3RsaWIgdjMuNy4zLCBodHRwczovL21hdHBsb3RsaWIub3JnusneEAAAADJ0RVh0U29mdHdhcmUATWF0cGxvdGxpYiB2My43LjMsIGh0dHBzOi8vbWF0cGxvdGxpYi5vcmeUb0E3AAAB8ElEQVR4nO3WQW7CMBRFUbf7X1eX0QV0EXYHECHsGDuo6uSdM+MTHMcCdD++vn9aKaW0Vp60chv089qe56274Hhd+/Xa+Xr99eN61+b9OrP7XZ3P93f/XH293v5z7e3v8nrT/V07j9J9brh/Xby/et7d85jeZ3e9bl7P99c/7/ychh/K1v5W93vsr5tv7uNx/ev1tvdxvK6vz3Vcr5zO23Hwy/N6b39/tt59n23x3Ov16uL94/c6fOE371e78d71s+/b+PuZXN+f0/Tchz+irX3/3+cW8+3z2Jy/u4/JfHsf5Tb/LABAHAEAAIEEAAAEEgAAEEgAAEAgAQAAgQQAAAQSAAAQSAAAQCABAACBBAAABBIAABBIAABAIAEAAIEEAAAEEgAAEEgAAEAgAQAAgQQAAAQSAAAQSAAAQCABAACBBAAABBIAABBIAABAIAEAAIEEAAAEEgAAEEgAAEAgAQAAgQQAAAQSAAAQSAAAQCABAACBBAAABBIAABBIAABAIAEAAIEEAAAEEgAAEEgAAEAgAQAAgQQAAAQSAAAQSAAAQCABAACBBAAABBIAABBIAABAIAEAAIEEAAAEEgAAEEgAAEAgAQAAgQQAAAQSAAAQSAAAQCABAACBBAAABBIAABBIAABAIAEAAIEEAAAE+gX2Xt0VM+0PXwAAAABJRU5ErkJggg==\"></div><div style=\"vertical-align: middle; max-width: 514px; display: flex; justify-content: space-between;\"><div style=\"float: left;\"><div title=\"#c7dfebff\" style=\"display: inline-block; width: 1em; height: 1em; margin: 0; vertical-align: middle; border: 1px solid #555; background-color: #c7dfebff;\"></div> under</div><div style=\"margin: 0 auto; display: inline-block;\">bad <div title=\"#00000000\" style=\"display: inline-block; width: 1em; height: 1em; margin: 0; vertical-align: middle; border: 1px solid #555; background-color: #00000000;\"></div></div><div style=\"float: right;\">over <div title=\"#2b1f3eff\" style=\"display: inline-block; width: 1em; height: 1em; margin: 0; vertical-align: middle; border: 1px solid #555; background-color: #2b1f3eff;\"></div></div>"
      ],
      "text/plain": [
       "<matplotlib.colors.ListedColormap at 0x7fc04a0138b0>"
      ]
     },
     "execution_count": 6,
     "metadata": {},
     "output_type": "execute_result"
    }
   ],
   "source": [
    "sns.color_palette(\"ch:s=.25,rot=-.25\", as_cmap=True)"
   ]
  },
  {
   "cell_type": "code",
   "execution_count": 7,
   "metadata": {},
   "outputs": [
    {
     "data": {
      "image/png": "[encoded data removed]",
      "text/html": [
       "<div style=\"vertical-align: middle;\"><strong>blend</strong> </div><div class=\"cmap\"><img alt=\"blend colormap\" title=\"blend\" style=\"border: 1px solid #555;\" src=\"data:image/png;base64,iVBORw0KGgoAAAANSUhEUgAAAgAAAABACAYAAABsv8+/AAAAFHRFWHRUaXRsZQBibGVuZCBjb2xvcm1hcKH0gPAAAAAadEVYdERlc2NyaXB0aW9uAGJsZW5kIGNvbG9ybWFwX6spFgAAADB0RVh0QXV0aG9yAE1hdHBsb3RsaWIgdjMuNy4zLCBodHRwczovL21hdHBsb3RsaWIub3JnusneEAAAADJ0RVh0U29mdHdhcmUATWF0cGxvdGxpYiB2My43LjMsIGh0dHBzOi8vbWF0cGxvdGxpYi5vcmeUb0E3AAABj0lEQVR4nO3WS07DQBBAwYY7cjiuwCWHDQSR3xBAKOhVbeKJI4/biqX38PTyvGZm1lozMzNvH4eDo/XanD/9+nB0dr0259/Xx9v8+P5O9rnwu8119vt+nuNj2Zr79/4PX91/N/f569773Dff35/NfWfv/3bf69e59bn8n7nv+/2vzv3t93/7/K7P/TgAQI4AAIAgAQAAQQIAAIIEAAAECQAACBIAABAkAAAgSAAAQJAAAIAgAQAAQQIAAIIEAAAECQAACBIAABAkAAAgSAAAQJAAAIAgAQAAQQIAAIIEAAAECQAACBIAABAkAAAgSAAAQJAAAIAgAQAAQQIAAIIEAAAECQAACBIAABAkAAAgSAAAQJAAAIAgAQAAQQIAAIIEAAAECQAACBIAABAkAAAgSAAAQJAAAIAgAQAAQQIAAIIEAAAECQAACBIAABAkAAAgSAAAQJAAAIAgAQAAQQIAAIIEAAAECQAACBIAABAkAAAgSAAAQJAAAIAgAQAAQQIAAIIEAAAECQAACBIAABD0ClCrK/y0C7xuAAAAAElFTkSuQmCC\"></div><div style=\"vertical-align: middle; max-width: 514px; display: flex; justify-content: space-between;\"><div style=\"float: left;\"><div title=\"#55aa99ff\" style=\"display: inline-block; width: 1em; height: 1em; margin: 0; vertical-align: middle; border: 1px solid #555; background-color: #55aa99ff;\"></div> under</div><div style=\"margin: 0 auto; display: inline-block;\">bad <div title=\"#00000000\" style=\"display: inline-block; width: 1em; height: 1em; margin: 0; vertical-align: middle; border: 1px solid #555; background-color: #00000000;\"></div></div><div style=\"float: right;\">over <div title=\"#232626ff\" style=\"display: inline-block; width: 1em; height: 1em; margin: 0; vertical-align: middle; border: 1px solid #555; background-color: #232626ff;\"></div></div>"
      ],
      "text/plain": [
       "<matplotlib.colors.LinearSegmentedColormap at 0x7fc04a0135b0>"
      ]
     },
     "execution_count": 7,
     "metadata": {},
     "output_type": "execute_result"
    }
   ],
   "source": [
    "sns.color_palette(\"dark:#5A9_r\", as_cmap=True)"
   ]
  },
  {
   "cell_type": "code",
   "execution_count": 3,
   "metadata": {},
   "outputs": [
    {
     "data": {
      "image/png": "[encoded data removed]",
      "text/html": [
       "<div style=\"vertical-align: middle;\"><strong>rocket</strong> </div><div class=\"cmap\"><img alt=\"rocket colormap\" title=\"rocket\" style=\"border: 1px solid #555;\" src=\"data:image/png;base64,iVBORw0KGgoAAAANSUhEUgAAAgAAAABACAYAAABsv8+/AAAAFXRFWHRUaXRsZQByb2NrZXQgY29sb3JtYXCDKv+2AAAAG3RFWHREZXNjcmlwdGlvbgByb2NrZXQgY29sb3JtYXDKvedSAAAAMHRFWHRBdXRob3IATWF0cGxvdGxpYiB2My43LjMsIGh0dHBzOi8vbWF0cGxvdGxpYi5vcme6yd4QAAAAMnRFWHRTb2Z0d2FyZQBNYXRwbG90bGliIHYzLjcuMywgaHR0cHM6Ly9tYXRwbG90bGliLm9yZ5RvQTcAAAITSURBVHic7dZLVuwgAEVRoJyE8x8odpJyBUIR7d69Oy7+8fkap7av715KKbXWUkoptRw/j3HbzZ/jzblx/2p+uqdszv13/PSd1b7h3tX87z3l2fcc+9rTe8Zz0/eUj+P5vsX++tfzx3xfzK/2L+8/5ntZnBvu6+N943fdz+/Otd7v16dz/fN90z19+H1W8/3zfL3fd/z5Sqv9fv85Xzfz7XrfPD+sj/Nt+I7Feh3faffrZbl+/MMs58dxvY7f99Zh/3X8e65exrv55fr7D9UW+9qj/ee4btZ358/1+l5fnfvv/Ord1b7rzzrt273zenb/9v37e+bvefre65jevf/03fv94/3nf2MAIIgAAIBAAgAAAgkAAAgkAAAgkAAAgEACAAACCQAACCQAACCQAACAQAIAAAIJAAAIJAAAIJAAAIBAAgAAAgkAAAgkAAAgkAAAgEACAAACCQAACCQAACCQAACAQAIAAAIJAAAIJAAAIJAAAIBAAgAAAgkAAAgkAAAgkAAAgEACAAACCQAACCQAACCQAACAQAIAAAIJAAAIJAAAIJAAAIBAAgAAAgkAAAgkAAAgkAAAgEACAAACCQAACCQAACCQAACAQAIAAAIJAAAIJAAAIJAAAIBAAgAAAgkAAAgkAAAgkAAAgEACAAACCQAACCQAACCQAACAQAIAAAIJAAAIJAAAIJAAAIBAAgAAAv0AU3UrP5ppht0AAAAASUVORK5CYII=\"></div><div style=\"vertical-align: middle; max-width: 514px; display: flex; justify-content: space-between;\"><div style=\"float: left;\"><div title=\"#03051aff\" style=\"display: inline-block; width: 1em; height: 1em; margin: 0; vertical-align: middle; border: 1px solid #555; background-color: #03051aff;\"></div> under</div><div style=\"margin: 0 auto; display: inline-block;\">bad <div title=\"#00000000\" style=\"display: inline-block; width: 1em; height: 1em; margin: 0; vertical-align: middle; border: 1px solid #555; background-color: #00000000;\"></div></div><div style=\"float: right;\">over <div title=\"#faebddff\" style=\"display: inline-block; width: 1em; height: 1em; margin: 0; vertical-align: middle; border: 1px solid #555; background-color: #faebddff;\"></div></div>"
      ],
      "text/plain": [
       "<matplotlib.colors.ListedColormap at 0x7fc04a0139d0>"
      ]
     },
     "execution_count": 3,
     "metadata": {},
     "output_type": "execute_result"
    }
   ],
   "source": [
    "sns.color_palette(\"rocket\", as_cmap=True)\n"
   ]
  },
  {
   "cell_type": "code",
   "execution_count": 10,
   "metadata": {},
   "outputs": [],
   "source": [
    "with open('connected_movies_and_casts.json', 'r') as file:\n",
    "    connected_movies = json.load(file)"
   ]
  },
  {
   "cell_type": "code",
   "execution_count": 11,
   "metadata": {},
   "outputs": [],
   "source": [
    "df_movies = pd.read_json('df_movies.json', orient='table')"
   ]
  },
  {
   "cell_type": "code",
   "execution_count": 13,
   "metadata": {},
   "outputs": [
    {
     "data": {
      "text/plain": [
       "(5780, 7)"
      ]
     },
     "execution_count": 13,
     "metadata": {},
     "output_type": "execute_result"
    }
   ],
   "source": [
    "df_movies.shape"
   ]
  },
  {
   "cell_type": "code",
   "execution_count": 14,
   "metadata": {},
   "outputs": [
    {
     "name": "stderr",
     "output_type": "stream",
     "text": [
      "<ipython-input-14-0726c2c04fd9>:8: FutureWarning: \n",
      "\n",
      "Passing `palette` without assigning `hue` is deprecated and will be removed in v0.14.0. Assign the `x` variable to `hue` and set `legend=False` for the same effect.\n",
      "\n",
      "  barplot = sns.barplot(x='Genre', y='Count', data=genre_counts, palette='flare')\n"
     ]
    },
    {
     "data": {
      "image/png": "[encoded data removed]",
      "text/plain": [
       "<Figure size 1440x432 with 1 Axes>"
      ]
     },
     "metadata": {
      "needs_background": "light"
     },
     "output_type": "display_data"
    }
   ],
   "source": [
    "genre_counts = df_movies['Genre'].value_counts()\n",
    "genre_counts = genre_counts.reset_index()\n",
    "genre_counts.columns = ['Genre', 'Count']\n",
    "\n",
    "# Create the bar plot\n",
    "sns.set(style=\"whitegrid\") \n",
    "plt.figure(figsize=(20, 6)) \n",
    "barplot = sns.barplot(x='Genre', y='Count', data=genre_counts, palette='flare')\n",
    "\n",
    "# Rotate the labels on x-axis for better readability\n",
    "plt.xticks(rotation=45, ha='right', fontsize=14)\n",
    "plt.title('Genre Distribution in Movies', fontsize=20)\n",
    "plt.xlabel('Genre', fontsize=16)\n",
    "plt.ylabel('Number of Movies', fontsize=16)\n",
    "\n",
    "# Add count numbers on each bar\n",
    "for p in barplot.patches:\n",
    "    barplot.annotate(format(p.get_height(), '.0f'), \n",
    "                     (p.get_x() + p.get_width() / 2., p.get_height()), \n",
    "                     ha = 'center', va = 'center', \n",
    "                     xytext = (0, 9), \n",
    "                     textcoords = 'offset points',\n",
    "                     fontsize=14)\n",
    "plt.show()"
   ]
  },
  {
   "cell_type": "markdown",
   "metadata": {},
   "source": [
    "# Network Creation"
   ]
  },
  {
   "cell_type": "code",
   "execution_count": 15,
   "metadata": {},
   "outputs": [],
   "source": [
    "# Create undirected Graph\n",
    "G_movies = nx.Graph()\n",
    "\n",
    "# Adding nodes\n",
    "movies_nodes = list(connected_movies.keys())\n",
    "G_movies.add_nodes_from(movies_nodes)\n",
    "\n",
    "node_attr = df_movies[['Title','Director','Cast','Country','Genre', \n",
    "                'Year']].set_index('Title').to_dict('index') # Creating a dictionary with the characters and their attributes\n",
    "\n",
    "nx.set_node_attributes(G_movies, node_attr) #Adding attributes to the graph\n",
    "\n",
    "for movie in connected_movies.keys():\n",
    "    for connected_movie in connected_movies[movie]: \n",
    "        weight = len(connected_movies[movie][connected_movie])\n",
    "        attribute_value = connected_movies[movie][connected_movie]\n",
    "        G_movies.add_edges_from([(movie, connected_movie)], weight=weight, attribute_name=attribute_value)"
   ]
  },
  {
   "cell_type": "code",
   "execution_count": 16,
   "metadata": {},
   "outputs": [
    {
     "name": "stdout",
     "output_type": "stream",
     "text": [
      "{'weight': 3, 'attribute_name': ['michele morrone', 'anna-maria sieklucka', 'magdalena lamparska']}\n"
     ]
    }
   ],
   "source": [
    "print(G_movies.edges[\"365 Days: This Day\", \"365 Days\"])"
   ]
  },
  {
   "cell_type": "code",
   "execution_count": 19,
   "metadata": {},
   "outputs": [
    {
     "name": "stdout",
     "output_type": "stream",
     "text": [
      "{'Director': 'barbara biaowas,tomasz mandes', 'Cast': 'anna-maria sieklucka,michele morrone, rebecca casiraghi,magdalena lamparska', 'Country': 'europe', 'Genre': 'Thriller', 'Year': '2022'}\n"
     ]
    }
   ],
   "source": [
    "print(G_movies.nodes[\"365 Days: This Day\"])"
   ]
  },
  {
   "cell_type": "markdown",
   "metadata": {},
   "source": [
    "# Network Analysis"
   ]
  },
  {
   "cell_type": "code",
   "execution_count": 17,
   "metadata": {},
   "outputs": [
    {
     "name": "stdout",
     "output_type": "stream",
     "text": [
      "The network consist of:  5780  nodes (Movies)\n",
      "The network consist of:  37253  edges\n"
     ]
    }
   ],
   "source": [
    "print(\"The network consist of: \", G_movies.number_of_nodes(), \" nodes (Movies)\")\n",
    "print(\"The network consist of: \", G_movies.number_of_edges(), \" edges\")"
   ]
  },
  {
   "cell_type": "markdown",
   "metadata": {},
   "source": [
    "# Largest Connected Component"
   ]
  },
  {
   "cell_type": "code",
   "execution_count": 18,
   "metadata": {},
   "outputs": [],
   "source": [
    "#Extracting the largest component\n",
    "connected_components = nx.connected_components(G_movies)\n",
    "# Finding the largest connected component\n",
    "largest_cc = max(connected_components, key=len)\n",
    "# Creating a subgraph for the largest connected component\n",
    "G_largest_cc = G_movies.subgraph(largest_cc).copy()"
   ]
  },
  {
   "cell_type": "code",
   "execution_count": 19,
   "metadata": {},
   "outputs": [
    {
     "name": "stdout",
     "output_type": "stream",
     "text": [
      "The largest connected component network consist of:  4422  nodes (Movies)\n",
      "The largest connected component network consist of:  36958  edges\n"
     ]
    }
   ],
   "source": [
    "print(\"The largest connected component network consist of: \", G_largest_cc.number_of_nodes(), \" nodes (Movies)\")\n",
    "print(\"The largest connected component network consist of: \", G_largest_cc.number_of_edges(), \" edges\")"
   ]
  },
  {
   "cell_type": "markdown",
   "metadata": {},
   "source": [
    "## Density (average degree)"
   ]
  },
  {
   "cell_type": "code",
   "execution_count": 40,
   "metadata": {},
   "outputs": [
    {
     "name": "stdout",
     "output_type": "stream",
     "text": [
      "The average degree of the GCC is: 17\n"
     ]
    }
   ],
   "source": [
    "print(\"The average degree of the GCC is:\", round(sum(dict(G_largest_cc.degree(weight='weight')).values())/len(G_largest_cc.degree)))"
   ]
  },
  {
   "cell_type": "code",
   "execution_count": 45,
   "metadata": {},
   "outputs": [
    {
     "name": "stderr",
     "output_type": "stream",
     "text": [
      "<ipython-input-45-6e4d2ae0bf0b>:12: UserWarning: \n",
      "\n",
      "`distplot` is a deprecated function and will be removed in seaborn v0.14.0.\n",
      "\n",
      "Please adapt your code to use either `displot` (a figure-level function with\n",
      "similar flexibility) or `histplot` (an axes-level function for histograms).\n",
      "\n",
      "For a guide to updating your code to use the new functions, please see\n",
      "https://gist.github.com/mwaskom/de44147ed2974457ad6372750bbe5751\n",
      "\n",
      "  sns.distplot(degrees_df['Degree'], kde=False, color=\"#DC2026\", hist_kws={'edgecolor':'black'})\n"
     ]
    },
    {
     "data": {
      "text/plain": [
       "Text(0, 0.5, 'Number of Nodes')"
      ]
     },
     "execution_count": 45,
     "metadata": {},
     "output_type": "execute_result"
    },
    {
     "data": {
      "image/png": "[encoded data removed]",
      "text/plain": [
       "<Figure size 1728x432 with 1 Axes>"
      ]
     },
     "metadata": {
      "needs_background": "light"
     },
     "output_type": "display_data"
    }
   ],
   "source": [
    "# Calculating degrees for each node\n",
    "degrees = [G_largest_cc.degree(n, weight='weight') for n in G_largest_cc.nodes()]\n",
    "\n",
    "# Convert the degrees list to a DataFrame\n",
    "degrees_df = pd.DataFrame(degrees, columns=['Degree'])\n",
    "\n",
    "# Set up the matplotlib figure\n",
    "plt.figure(figsize=(24, 6))\n",
    "\n",
    "# First subplot for the regular scale histogram\n",
    "plt.subplot(1, 2, 1)  # 1 row, 2 columns, 1st subplot\n",
    "sns.distplot(degrees_df['Degree'], kde=False, color=\"#DC2026\", hist_kws={'edgecolor':'black'})\n",
    "plt.title('Degree Distribution - Linear Scale', fontweight=\"bold\", fontsize=16)\n",
    "plt.xlabel('Degree', fontsize=14)\n",
    "plt.ylabel('Number of Nodes', fontsize=14)\n"
   ]
  },
  {
   "cell_type": "markdown",
   "metadata": {},
   "source": [
    "## Degree distribution"
   ]
  },
  {
   "cell_type": "code",
   "execution_count": 124,
   "metadata": {},
   "outputs": [
    {
     "data": {
      "text/plain": [
       "Horror             1860\n",
       "Comedy             1051\n",
       "Action              874\n",
       "Science Fiction     579\n",
       "Adventure           501\n",
       "Thriller            453\n",
       "Fantasy             373\n",
       "Mix                  89\n",
       "Name: Genre, dtype: int64"
      ]
     },
     "execution_count": 124,
     "metadata": {},
     "output_type": "execute_result"
    }
   ],
   "source": [
    "df_movies['Genre'].value_counts()"
   ]
  },
  {
   "cell_type": "code",
   "execution_count": 125,
   "metadata": {},
   "outputs": [],
   "source": [
    "# Saving nodes in lists according to their genre\n",
    "n_horror = [x for x,y in G_largest_cc.nodes(data=True) if y['Genre']=='Horror']\n",
    "n_comedy = [x for x,y in G_largest_cc.nodes(data=True) if y['Genre']=='Comedy']\n",
    "n_action = [x for x,y in G_largest_cc.nodes(data=True) if y['Genre']=='Action']\n",
    "n_scify = [x for x,y in G_largest_cc.nodes(data=True) if y['Genre']=='Science Fiction']\n",
    "n_adventure = [x for x,y in G_largest_cc.nodes(data=True) if y['Genre']=='Adventure']\n",
    "n_thriller = [x for x,y in G_largest_cc.nodes(data=True) if y['Genre']=='Thriller']\n",
    "n_fantasy = [x for x,y in G_largest_cc.nodes(data=True) if y['Genre']=='Fantasy']\n",
    "n_mix = [x for x,y in G_largest_cc.nodes(data=True) if y['Genre']=='Mix']"
   ]
  },
  {
   "cell_type": "code",
   "execution_count": 127,
   "metadata": {},
   "outputs": [],
   "source": [
    "#Degree distribution:\n",
    "deg_horror = np.array(list(dict(G_largest_cc.degree(n_horror)).values()))\n",
    "deg_comedy = np.array(list(dict(G_largest_cc.degree(n_comedy)).values()))\n",
    "deg_action = np.array(list(dict(G_largest_cc.degree(n_action)).values()))\n",
    "deg_scify = np.array(list(dict(G_largest_cc.degree(n_scify)).values()))\n",
    "deg_adventure = np.array(list(dict(G_largest_cc.degree(n_adventure)).values()))\n",
    "deg_thriller = np.array(list(dict(G_largest_cc.degree(n_thriller)).values()))\n",
    "deg_fantasy = np.array(list(dict(G_largest_cc.degree(n_fantasy)).values()))\n",
    "deg_mix = np.array(list(dict(G_largest_cc.degree(n_mix)).values()))\n",
    "\n",
    "#Finding the unique values and how many time they appear \n",
    "values_horror, counts_horror = np.unique(deg_horror, return_counts=True)\n",
    "values_comedy, counts_comedy = np.unique(deg_comedy, return_counts=True)\n",
    "values_action, counts_action = np.unique(deg_action, return_counts=True)\n",
    "values_scify, counts_scify = np.unique(deg_scify, return_counts=True)\n",
    "values_adventure, counts_adventure = np.unique(deg_adventure, return_counts=True)\n",
    "values_thriller, counts_thriller = np.unique(deg_thriller, return_counts=True)\n",
    "values_fantasy, counts_fantasy = np.unique(deg_fantasy, return_counts=True)\n",
    "values_mix, counts_mix = np.unique(deg_mix, return_counts=True)"
   ]
  },
  {
   "cell_type": "code",
   "execution_count": 131,
   "metadata": {},
   "outputs": [
    {
     "data": {
      "image/png": "[encoded data removed]",
      "text/plain": [
       "<Figure size 1440x432 with 1 Axes>"
      ]
     },
     "metadata": {
      "needs_background": "light"
     },
     "output_type": "display_data"
    }
   ],
   "source": [
    "# Sample data for each genre - replace these with your actual data\n",
    "horror_data = pd.DataFrame({'Degree': values_horror, 'Count': counts_horror, 'Genre': 'Horror'})\n",
    "comedy_data = pd.DataFrame({'Degree': values_comedy, 'Count': counts_comedy, 'Genre': 'Comedy'})\n",
    "action_data = pd.DataFrame({'Degree': values_action, 'Count': counts_action, 'Genre': 'Action'})\n",
    "scify_data = pd.DataFrame({'Degree': values_scify, 'Count': counts_scify, 'Genre': 'Scify'})\n",
    "adventure_data = pd.DataFrame({'Degree': values_adventure, 'Count': counts_adventure, 'Genre': 'Adventure'})\n",
    "thriller_data = pd.DataFrame({'Degree': values_thriller, 'Count': counts_thriller, 'Genre': 'Thriller'})\n",
    "fantasy_data = pd.DataFrame({'Degree': values_fantasy, 'Count': counts_fantasy, 'Genre': 'Fantasy'})\n",
    "mix_data = pd.DataFrame({'Degree': values_mix, 'Count': counts_mix, 'Genre': 'Mix'})\n",
    "\n",
    "# Concatenate all DataFrames\n",
    "all_genres_data = pd.concat([horror_data, comedy_data, action_data, scify_data, adventure_data, thriller_data, fantasy_data, mix_data])\n",
    "\n",
    "# Create the plot\n",
    "plt.figure(figsize=(20, 6))\n",
    "sns.lineplot(data=all_genres_data, x='Degree', y='Count', hue='Genre', \n",
    "             palette=['#DA70D6', '#008080', '#4B0082', 'red', 'blue', 'orange', 'black', 'grey'])  # Adjust the palette as needed\n",
    "plt.title(\"Degree Distribution for Each Genre\")\n",
    "plt.xlabel(\"Degree\")\n",
    "plt.ylabel(\"Count\")\n",
    "plt.show()\n"
   ]
  },
  {
   "cell_type": "markdown",
   "metadata": {},
   "source": [
    "### Most connected movies"
   ]
  },
  {
   "cell_type": "code",
   "execution_count": 46,
   "metadata": {},
   "outputs": [
    {
     "name": "stdout",
     "output_type": "stream",
     "text": [
      "Top 10 connected movies:  ['Thor: Love and Thunder', 'Avengers: Endgame', 'Amsterdam', 'Dolittle', \"Don't Look Up\", \"Zack Snyder's Justice League\", 'The Avengers', 'Harry Potter and the Deathly Hallows Part 1', 'Thor: Ragnarok', 'Avengers: Infinity War']\n"
     ]
    }
   ],
   "source": [
    "degrees = dict(G_largest_cc.degree(weight='weight'))\n",
    "degrees_movies = {node: degree for node, degree in degrees.items()}\n",
    "top_connected = sorted(degrees_movies, key=degrees_movies.get, reverse=True)[:10]\n",
    "print(\"Top 10 connected movies: \", top_connected)"
   ]
  },
  {
   "cell_type": "code",
   "execution_count": 48,
   "metadata": {},
   "outputs": [
    {
     "data": {
      "text/plain": [
       "{'Director': 'taika waititi',\n",
       " 'Cast': 'chris hemsworth,tessa thompson,natalie portman,christian bale,chris pratt,jaimie alexander,pom klementieff,dave bautista,karen gillan,sean gunn,jeff goldblum,vin diesel',\n",
       " 'Country': 'united states',\n",
       " 'Genre': 'Action',\n",
       " 'Year': '2022'}"
      ]
     },
     "execution_count": 48,
     "metadata": {},
     "output_type": "execute_result"
    }
   ],
   "source": [
    "G_largest_cc.nodes['Thor: Love and Thunder']"
   ]
  },
  {
   "cell_type": "code",
   "execution_count": 49,
   "metadata": {},
   "outputs": [
    {
     "name": "stdout",
     "output_type": "stream",
     "text": [
      "Movie: Thor: Love and Thunder\n",
      "Directors: taika waititi\n",
      "Degree: 116\n",
      "\n",
      "Movie: Avengers: Endgame\n",
      "Directors: anthony and joseph russo\n",
      "Degree: 115\n",
      "\n",
      "Movie: Amsterdam\n",
      "Directors: david o russell\n",
      "Degree: 113\n",
      "\n",
      "Movie: Dolittle\n",
      "Directors: stephen gaghan\n",
      "Degree: 106\n",
      "\n",
      "Movie: Don't Look Up\n",
      "Directors: adam mc kay\n",
      "Degree: 106\n",
      "\n",
      "Movie: Zack Snyder's Justice League\n",
      "Directors: zack snyder\n",
      "Degree: 103\n",
      "\n",
      "Movie: The Avengers\n",
      "Directors: joss whedon\n",
      "Degree: 98\n",
      "\n",
      "Movie: Harry Potter and the Deathly Hallows Part 1\n",
      "Directors: david yates\n",
      "Degree: 97\n",
      "\n",
      "Movie: Thor: Ragnarok\n",
      "Directors: taika waititi\n",
      "Degree: 97\n",
      "\n",
      "Movie: Avengers: Infinity War\n",
      "Directors: antony russo, joe russo\n",
      "Degree: 92\n",
      "\n"
     ]
    }
   ],
   "source": [
    "for movie in top_connected:\n",
    "    attributes = G_largest_cc.nodes[movie]\n",
    "    directors = attributes['Director']\n",
    "    #casts = attributes['Cast']\n",
    "    \n",
    "    print(f\"Movie: {movie}\")\n",
    "    print(f\"Directors: {directors}\")\n",
    "   # print(f\"Casts: {casts}\")\n",
    "    print(f\"Degree: {degrees[movie]}\\n\")"
   ]
  },
  {
   "cell_type": "code",
   "execution_count": 50,
   "metadata": {},
   "outputs": [
    {
     "name": "stdout",
     "output_type": "stream",
     "text": [
      "Top Connected Movie: Thor: Love and Thunder\n",
      "  Cast Member: chris hemsworth, Count: 16\n",
      "  Cast Member: christian bale, Count: 16\n",
      "  Cast Member: vin diesel, Count: 21\n",
      "  Cast Member: jeff goldblum, Count: 12\n",
      "  Cast Member: natalie portman, Count: 13\n",
      "  Cast Member: dave bautista, Count: 12\n",
      "  Cast Member: karen gillan, Count: 6\n",
      "  Cast Member: pom klementieff, Count: 1\n",
      "  Cast Member: chris pratt, Count: 12\n",
      "  Cast Member: jaimie alexander, Count: 3\n",
      "  Cast Member: sean gunn, Count: 1\n",
      "  Cast Member: tessa thompson, Count: 3\n",
      "\n",
      "Top Connected Movie: Avengers: Endgame\n",
      "  Cast Member: chris hemsworth, Count: 16\n",
      "  Cast Member: chris evans, Count: 18\n",
      "  Cast Member: mark ruffalo, Count: 11\n",
      "  Cast Member: josh brolin, Count: 11\n",
      "  Cast Member: scarlett johansson, Count: 19\n",
      "  Cast Member: jeremy renner, Count: 8\n",
      "  Cast Member: robert downey jr, Count: 13\n",
      "  Cast Member: brie larson, Count: 3\n",
      "  Cast Member: paul rudd, Count: 16\n",
      "\n",
      "Top Connected Movie: Amsterdam\n",
      "  Cast Member: rami malek, Count: 3\n",
      "  Cast Member: christian bale, Count: 16\n",
      "  Cast Member: michael shannon, Count: 9\n",
      "  Cast Member: matthias schoenaerts, Count: 2\n",
      "  Cast Member: anya taylor-joy, Count: 8\n",
      "  Cast Member: timothy olyphant, Count: 11\n",
      "  Cast Member: robert de niro, Count: 17\n",
      "  Cast Member: margot robbie, Count: 7\n",
      "  Cast Member: zoe saldana, Count: 14\n",
      "  Cast Member: andrea riseborough, Count: 5\n",
      "  Cast Member: chris rock, Count: 9\n",
      "  Cast Member: mike myers, Count: 7\n",
      "  Cast Member: taylor swift, Count: 2\n",
      "  Cast Member: john david washington, Count: 2\n",
      "  Cast Member: alessandro nivola, Count: 1\n",
      "\n",
      "Top Connected Movie: Dolittle\n",
      "  Cast Member: craig robinson, Count: 6\n",
      "  Cast Member: tom holland, Count: 11\n",
      "  Cast Member: rami malek, Count: 3\n",
      "  Cast Member: ralph fiennes, Count: 13\n",
      "  Cast Member: michael sheen, Count: 5\n",
      "  Cast Member: antonio banderas, Count: 20\n",
      "  Cast Member: kumail nanjiani, Count: 3\n",
      "  Cast Member: octavia spencer, Count: 6\n",
      "  Cast Member: robert downey jr, Count: 13\n",
      "  Cast Member: selena gomez, Count: 6\n",
      "  Cast Member: marion cotillard, Count: 6\n",
      "  Cast Member: john cena, Count: 7\n",
      "  Cast Member: emma thompson, Count: 7\n",
      "\n",
      "Top Connected Movie: Don't Look Up\n",
      "  Cast Member: tyler perry, Count: 5\n",
      "  Cast Member: ron perlman, Count: 14\n",
      "  Cast Member: cate blanchett, Count: 14\n",
      "  Cast Member: chris evans, Count: 18\n",
      "  Cast Member: leonardo di caprio, Count: 6\n",
      "  Cast Member: tomer sisley, Count: 2\n",
      "  Cast Member: jennifer lawrence, Count: 12\n",
      "  Cast Member: meryl streep, Count: 8\n",
      "  Cast Member: rob morgan, Count: 2\n",
      "  Cast Member: jonah hill, Count: 15\n",
      "  Cast Member: matthew perry, Count: 3\n",
      "  Cast Member: timothee chalamet, Count: 2\n",
      "  Cast Member: scott mescudi, Count: 2\n",
      "  Cast Member: melanie lynskey, Count: 2\n",
      "  Cast Member: himesh patel, Count: 1\n",
      "\n",
      "Top Connected Movie: Zack Snyder's Justice League\n",
      "  Cast Member: willem dafoe, Count: 16\n",
      "  Cast Member: connie nielsen, Count: 10\n",
      "  Cast Member: amy adams, Count: 11\n",
      "  Cast Member: gal gadot, Count: 7\n",
      "  Cast Member: ben affleck, Count: 17\n",
      "  Cast Member: j k simmons, Count: 6\n",
      "  Cast Member: diane lane, Count: 6\n",
      "  Cast Member: jeremy irons, Count: 6\n",
      "  Cast Member: jason momoa, Count: 6\n",
      "  Cast Member: jesse eisenberg, Count: 7\n",
      "  Cast Member: henry cavill, Count: 7\n",
      "  Cast Member: ezra miller, Count: 3\n",
      "  Cast Member: ray fisher, Count: 1\n",
      "\n",
      "Top Connected Movie: The Avengers\n",
      "  Cast Member: chris hemsworth, Count: 16\n",
      "  Cast Member: chris evans, Count: 18\n",
      "  Cast Member: samuel l jackson, Count: 32\n",
      "  Cast Member: scarlett johansson, Count: 19\n",
      "  Cast Member: robert downey jr, Count: 13\n",
      "\n",
      "Top Connected Movie: Harry Potter and the Deathly Hallows Part 1\n",
      "  Cast Member: ralph fiennes, Count: 13\n",
      "  Cast Member: toby jones, Count: 4\n",
      "  Cast Member: brendan gleeson, Count: 5\n",
      "  Cast Member: tom felton, Count: 3\n",
      "  Cast Member: emma watson, Count: 12\n",
      "  Cast Member: alan rickman, Count: 6\n",
      "  Cast Member: john hurt, Count: 7\n",
      "  Cast Member: daniel radcliffe, Count: 13\n",
      "  Cast Member: jason isaacs, Count: 6\n",
      "  Cast Member: julie walters, Count: 4\n",
      "  Cast Member: helena bonham carter, Count: 13\n",
      "  Cast Member: rupert grint, Count: 8\n",
      "  Cast Member: helen mc crory, Count: 3\n",
      "\n",
      "Top Connected Movie: Thor: Ragnarok\n",
      "  Cast Member: chris hemsworth, Count: 16\n",
      "  Cast Member: cate blanchett, Count: 14\n",
      "  Cast Member: mark ruffalo, Count: 11\n",
      "  Cast Member: karl urban, Count: 11\n",
      "  Cast Member: anthony hopkins, Count: 10\n",
      "  Cast Member: jeff goldblum, Count: 12\n",
      "  Cast Member: idris elba, Count: 14\n",
      "  Cast Member: tom hiddleston, Count: 6\n",
      "  Cast Member: tessa thompson, Count: 3\n",
      "\n",
      "Top Connected Movie: Avengers: Infinity War\n",
      "  Cast Member: tom holland, Count: 11\n",
      "  Cast Member: chris evans, Count: 18\n",
      "  Cast Member: benedict cumberbatch, Count: 8\n",
      "  Cast Member: josh brolin, Count: 11\n",
      "  Cast Member: scarlett johansson, Count: 19\n",
      "  Cast Member: robert downey jr, Count: 13\n",
      "  Cast Member: chris pratt, Count: 12\n",
      "\n"
     ]
    }
   ],
   "source": [
    "# Create a dictionary to store cast members and their counts for each top_connected_movie\n",
    "movie_cast_count = {}\n",
    "\n",
    "# Iterate through the movies and their cast lists\n",
    "for top_connected_movie in top_connected:\n",
    "    for movie, cast_list in connected_movies[top_connected_movie].items():\n",
    "        if top_connected_movie not in movie_cast_count:\n",
    "            movie_cast_count[top_connected_movie] = {}\n",
    "        for cast_member in cast_list:\n",
    "            if cast_member in movie_cast_count[top_connected_movie]:\n",
    "                movie_cast_count[top_connected_movie][cast_member][\"Count\"] += 1\n",
    "            else:\n",
    "                movie_cast_count[top_connected_movie][cast_member] = {\"Count\": 1}\n",
    "\n",
    "# Print the cast members, their counts, and associated movies for each top_connected_movie\n",
    "for movie, cast_data in movie_cast_count.items():\n",
    "    print(f\"Top Connected Movie: {movie}\")\n",
    "    for cast_member, data in cast_data.items():\n",
    "        count = data[\"Count\"]\n",
    "        print(f\"  Cast Member: {cast_member}, Count: {count}\")\n",
    "    print()\n"
   ]
  },
  {
   "cell_type": "markdown",
   "metadata": {},
   "source": [
    "### Most connected movies for each genre"
   ]
  },
  {
   "cell_type": "code",
   "execution_count": 141,
   "metadata": {},
   "outputs": [
    {
     "name": "stdout",
     "output_type": "stream",
     "text": [
      "Most connected movie in the 'Thriller' genre: Eastern Promises (Degree: 30)\n",
      "Most connected movie in the 'Science Fiction' genre: Captain America: Civil War (Degree: 40)\n",
      "Most connected movie in the 'Mix' genre: Ghost Rider (Degree: 40)\n",
      "Most connected movie in the 'Comedy' genre: Zoolander (Degree: 56)\n",
      "Most connected movie in the 'Adventure' genre: Reign of Fire (Degree: 54)\n",
      "Most connected movie in the 'Action' genre: Triple Threat (Degree: 65)\n",
      "Most connected movie in the 'Horror' genre: Chillerama (Degree: 38)\n",
      "Most connected movie in the 'Fantasy' genre: Beauty and the Beast bill condon (Degree: 80)\n"
     ]
    }
   ],
   "source": [
    "most_connected_per_genre = {}\n",
    "\n",
    "# Iterate through unique genres in the graph\n",
    "unique_genres = set(nx.get_node_attributes(G_largest_cc, 'Genre').values())\n",
    "for genre in unique_genres:\n",
    "    # Create a subgraph containing only nodes with the current genre\n",
    "    subgraph = G_largest_cc.subgraph([node for node, attributes in G_largest_cc.nodes(data=True) if attributes['Genre'] == genre])\n",
    "    \n",
    "    # Calculate the degree for each node in the subgraph\n",
    "    degrees = dict(subgraph.degree())\n",
    "    \n",
    "    # Find the movie with the highest degree in the subgraph\n",
    "    top_connected = max(degrees, key=degrees.get)\n",
    "    \n",
    "    # Store the result in the most_connected_per_genre dictionary\n",
    "    most_connected_per_genre[genre] = top_connected\n",
    "\n",
    "# Print the most connected movie for each genre\n",
    "for genre, movie in most_connected_per_genre.items():\n",
    "    print(f\"Most connected movie in the '{genre}' genre: {movie} (Degree: {G_largest_cc.degree(movie)})\")\n"
   ]
  },
  {
   "cell_type": "markdown",
   "metadata": {},
   "source": [
    "### Most connected movies over time for each genre"
   ]
  },
  {
   "cell_type": "code",
   "execution_count": 147,
   "metadata": {},
   "outputs": [
    {
     "name": "stdout",
     "output_type": "stream",
     "text": [
      "Most connected movie in the 'Thriller' genre in the decade 2000-2005: Basic (Degree: 53)\n",
      "Most connected movie in the 'Thriller' genre in the decade 2005-2010: The International (Degree: 24)\n",
      "Most connected movie in the 'Thriller' genre in the decade 2010-2015: The Next Three Days (Degree: 44)\n",
      "Most connected movie in the 'Thriller' genre in the decade 2015-2023: Cold Pursuit (Degree: 28)\n",
      "Most connected movie in the 'Science Fiction' genre in the decade 2000-2005: Mission to Mars (Degree: 15)\n",
      "Most connected movie in the 'Science Fiction' genre in the decade 2005-2010: Sunshine (Degree: 35)\n",
      "Most connected movie in the 'Science Fiction' genre in the decade 2010-2015: This Is the End (Degree: 48)\n",
      "Most connected movie in the 'Science Fiction' genre in the decade 2015-2023: Deadpool (Degree: 44)\n",
      "Most connected movie in the 'Mix' genre in the decade 2000-2005: Vanilla Sky (Degree: 37)\n",
      "Most connected movie in the 'Mix' genre in the decade 2005-2010: Children of Men (Degree: 42)\n",
      "Most connected movie in the 'Mix' genre in the decade 2010-2015: The Sorcerer's Apprentice (Degree: 44)\n",
      "Most connected movie in the 'Mix' genre in the decade 2015-2023: Mortal Kombat (Degree: 23)\n",
      "Most connected movie in the 'Comedy' genre in the decade 2000-2005: Zoolander (Degree: 56)\n",
      "Most connected movie in the 'Comedy' genre in the decade 2005-2010: Madagascar (Degree: 47)\n",
      "Most connected movie in the 'Comedy' genre in the decade 2010-2015: Dinner for Schmucks (Degree: 42)\n",
      "Most connected movie in the 'Comedy' genre in the decade 2015-2023: Hubie Halloween (Degree: 50)\n",
      "Most connected movie in the 'Adventure' genre in the decade 2000-2005: U-571 (Degree: 24)\n",
      "Most connected movie in the 'Adventure' genre in the decade 2005-2010: Beowulf & Grendel (Degree: 39)\n",
      "Most connected movie in the 'Adventure' genre in the decade 2010-2015: Rango (Degree: 36)\n",
      "Most connected movie in the 'Adventure' genre in the decade 2015-2023: Star Wars: The Force Awakens (Degree: 26)\n",
      "Most connected movie in the 'Action' genre in the decade 2000-2005: The Duel (Degree: 25)\n",
      "Most connected movie in the 'Action' genre in the decade 2005-2010: SPL: Sha Po Lang (Degree: 41)\n",
      "Most connected movie in the 'Action' genre in the decade 2010-2015: Special ID (Degree: 40)\n",
      "Most connected movie in the 'Action' genre in the decade 2015-2023: Triple Threat (Degree: 65)\n",
      "Most connected movie in the 'Horror' genre in the decade 2000-2005: Citizen Toxie: The Toxic Avenger IV (Degree: 18)\n",
      "Most connected movie in the 'Horror' genre in the decade 2005-2010: Chicago Massacre (Degree: 26)\n",
      "Most connected movie in the 'Horror' genre in the decade 2010-2015: Chillerama (Degree: 38)\n",
      "Most connected movie in the 'Horror' genre in the decade 2015-2023: Prisoners of the Ghostland (Degree: 43)\n",
      "Most connected movie in the 'Fantasy' genre in the decade 2000-2005: Shrek 2 (Degree: 47)\n",
      "Most connected movie in the 'Fantasy' genre in the decade 2005-2010: Charlie and the Chocolate Factory (Degree: 28)\n",
      "Most connected movie in the 'Fantasy' genre in the decade 2010-2015: Clash of the Titans (Degree: 77)\n",
      "Most connected movie in the 'Fantasy' genre in the decade 2015-2023: Thor: Ragnarok (Degree: 85)\n"
     ]
    }
   ],
   "source": [
    "decades = [(2000, 2005), (2005, 2010), (2010, 2015), (2015,2023)]\n",
    "\n",
    "# Create a dictionary to store the most connected movie for each genre and decade\n",
    "most_connected_per_genre_and_decade = {}\n",
    "\n",
    "# Iterate through unique genres in the graph\n",
    "unique_genres = set(nx.get_node_attributes(G_largest_cc, 'Genre').values())\n",
    "for genre in unique_genres:\n",
    "    for decade in decades:\n",
    "        year_start, year_end = map(int, decade)\n",
    "        # Create a subgraph containing only nodes with the current genre and within the current decade\n",
    "        subgraph = G_largest_cc.subgraph([node for node, attributes in G_largest_cc.nodes(data=True) if\n",
    "                              attributes['Genre'] == genre and decade[0] <= int(attributes['Year']) < decade[1]])\n",
    "        \n",
    "        # Calculate the degree for each node in the subgraph\n",
    "        degrees = dict(subgraph.degree())\n",
    "        \n",
    "        if degrees:\n",
    "            # Find the movie with the highest degree in the subgraph\n",
    "            top_connected = max(degrees, key=degrees.get)\n",
    "            \n",
    "            # Store the result in the most_connected_per_genre_and_decade dictionary\n",
    "            most_connected_per_genre_and_decade[(genre, decade)] = top_connected\n",
    "\n",
    "# Print the most connected movie for each genre and decade\n",
    "for (genre, decade), movie in most_connected_per_genre_and_decade.items():\n",
    "    print(f\"Most connected movie in the '{genre}' genre in the decade {decade[0]}-{decade[1]}: {movie} (Degree: {G_largest_cc.degree(movie)})\")\n"
   ]
  },
  {
   "cell_type": "code",
   "execution_count": null,
   "metadata": {},
   "outputs": [],
   "source": []
  },
  {
   "cell_type": "markdown",
   "metadata": {},
   "source": [
    "Overvej: \n",
    "\n",
    "- Backbone \n",
    "- betweenness uge 5\n",
    "- Centrality uge 5\n",
    "\n",
    "\n",
    "to do: \n",
    "- community detecton\n",
    "- plot \n",
    "- "
   ]
  }
 ],
 "metadata": {
  "kernelspec": {
   "display_name": "base",
   "language": "python",
   "name": "python3"
  },
  "language_info": {
   "codemirror_mode": {
    "name": "ipython",
    "version": 3
   },
   "file_extension": ".py",
   "mimetype": "text/x-python",
   "name": "python",
   "nbconvert_exporter": "python",
   "pygments_lexer": "ipython3",
   "version": "3.8.8"
  }
 },
 "nbformat": 4,
 "nbformat_minor": 2
}
