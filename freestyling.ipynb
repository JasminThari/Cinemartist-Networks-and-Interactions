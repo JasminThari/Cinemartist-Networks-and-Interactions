{
 "cells": [
  {
   "cell_type": "code",
   "execution_count": 2,
   "metadata": {},
   "outputs": [
    {
     "name": "stderr",
     "output_type": "stream",
     "text": [
      "/opt/anaconda3/lib/python3.8/site-packages/requests/__init__.py:89: RequestsDependencyWarning: urllib3 (2.1.0) or chardet (3.0.4) doesn't match a supported version!\n",
      "  warnings.warn(\"urllib3 ({}) or chardet ({}) doesn't match a supported \"\n"
     ]
    }
   ],
   "source": [
    "import pandas as pd\n",
    "import requests\n",
    "from bs4 import BeautifulSoup\n",
    "import csv\n",
    "import regex as re\n",
    "import json\n",
    "import unicodedata\n",
    "import seaborn as sns\n",
    "import matplotlib.pyplot as plt\n",
    "import networkx as nx \n",
    "from collections import Counter\n",
    "from Functions import DataCollection, DataCleaning, GetConnectedMoviesArtist"
   ]
  },
  {
   "cell_type": "code",
   "execution_count": 3,
   "metadata": {},
   "outputs": [],
   "source": [
    "with open('connected_movies_and_casts.json', 'r') as file:\n",
    "    connected_movies = json.load(file)"
   ]
  },
  {
   "cell_type": "code",
   "execution_count": 44,
   "metadata": {},
   "outputs": [],
   "source": [
    "df_movies = pd.read_json('df_movies.json', orient='table')"
   ]
  },
  {
   "cell_type": "code",
   "execution_count": 45,
   "metadata": {},
   "outputs": [
    {
     "data": {
      "text/html": [
       "<div>\n",
       "<style scoped>\n",
       "    .dataframe tbody tr th:only-of-type {\n",
       "        vertical-align: middle;\n",
       "    }\n",
       "\n",
       "    .dataframe tbody tr th {\n",
       "        vertical-align: top;\n",
       "    }\n",
       "\n",
       "    .dataframe thead th {\n",
       "        text-align: right;\n",
       "    }\n",
       "</style>\n",
       "<table border=\"1\" class=\"dataframe\">\n",
       "  <thead>\n",
       "    <tr style=\"text-align: right;\">\n",
       "      <th></th>\n",
       "      <th>Title</th>\n",
       "      <th>Director</th>\n",
       "      <th>Cast</th>\n",
       "      <th>Country</th>\n",
       "      <th>Genre</th>\n",
       "      <th>Year</th>\n",
       "      <th>Hyperref</th>\n",
       "    </tr>\n",
       "  </thead>\n",
       "  <tbody>\n",
       "    <tr>\n",
       "      <th>0</th>\n",
       "      <td>365 Days</td>\n",
       "      <td>barbara biaowas tomasz mandes</td>\n",
       "      <td>anna-maria sieklucka,michele morrone, bronisaw...</td>\n",
       "      <td>europe</td>\n",
       "      <td>Thriller</td>\n",
       "      <td>2020</td>\n",
       "      <td>365_Days_(2020_film)</td>\n",
       "    </tr>\n",
       "    <tr>\n",
       "      <th>1</th>\n",
       "      <td>7500</td>\n",
       "      <td>patrick vollrath</td>\n",
       "      <td>joseph gordon-levitt,aylin tezel</td>\n",
       "      <td>mix</td>\n",
       "      <td>Action</td>\n",
       "      <td>2020</td>\n",
       "      <td>7500_(film)</td>\n",
       "    </tr>\n",
       "    <tr>\n",
       "      <th>2</th>\n",
       "      <td>Archenemy</td>\n",
       "      <td>adam egypt mortimer</td>\n",
       "      <td>joe manganiello,skylan brooks, zolee griggs,pa...</td>\n",
       "      <td>mix</td>\n",
       "      <td>Action</td>\n",
       "      <td>2020</td>\n",
       "      <td>Archenemy_(film)</td>\n",
       "    </tr>\n",
       "    <tr>\n",
       "      <th>3</th>\n",
       "      <td>Asuraguru</td>\n",
       "      <td>araajdheep</td>\n",
       "      <td>vikram prabhu,mahima nambiar,subbaraju,yogi babu</td>\n",
       "      <td>india</td>\n",
       "      <td>Action</td>\n",
       "      <td>2020</td>\n",
       "      <td>Asuraguru</td>\n",
       "    </tr>\n",
       "    <tr>\n",
       "      <th>4</th>\n",
       "      <td>Aswathama</td>\n",
       "      <td>ramana teja</td>\n",
       "      <td>naga shourya,mehreen pirzada</td>\n",
       "      <td>india</td>\n",
       "      <td>Action</td>\n",
       "      <td>2020</td>\n",
       "      <td>Aswathama_(film)</td>\n",
       "    </tr>\n",
       "    <tr>\n",
       "      <th>...</th>\n",
       "      <td>...</td>\n",
       "      <td>...</td>\n",
       "      <td>...</td>\n",
       "      <td>...</td>\n",
       "      <td>...</td>\n",
       "      <td>...</td>\n",
       "      <td>...</td>\n",
       "    </tr>\n",
       "    <tr>\n",
       "      <th>6196</th>\n",
       "      <td>The League of Extraordinary Gentlemen</td>\n",
       "      <td>stephen norrington</td>\n",
       "      <td>sean connery,shane west,stuart townsend</td>\n",
       "      <td>united states</td>\n",
       "      <td>Mix</td>\n",
       "      <td>2003</td>\n",
       "      <td>The_League_of_Extraordinary_Gentlemen_(film)</td>\n",
       "    </tr>\n",
       "    <tr>\n",
       "      <th>6197</th>\n",
       "      <td>The Promise</td>\n",
       "      <td>chen kaige</td>\n",
       "      <td>hiroyuki sanada,jang dong-gun,cecilia cheung</td>\n",
       "      <td>china</td>\n",
       "      <td>Mix</td>\n",
       "      <td>2005</td>\n",
       "      <td>The_Promise_(2005_film)</td>\n",
       "    </tr>\n",
       "    <tr>\n",
       "      <th>6198</th>\n",
       "      <td>Legend of the Guardians: The Owls of Ga'Hoole</td>\n",
       "      <td>zack snyder</td>\n",
       "      <td>jim sturgess,joel edgerton,geoffrey rush,hugo ...</td>\n",
       "      <td>mix</td>\n",
       "      <td>Fantasy</td>\n",
       "      <td>2010</td>\n",
       "      <td>Legend_of_the_Guardians:_The_Owls_of_Ga%27Hoole</td>\n",
       "    </tr>\n",
       "    <tr>\n",
       "      <th>6199</th>\n",
       "      <td>Lethal</td>\n",
       "      <td>dustin rikert</td>\n",
       "      <td>heather marie marsden,lorenzo lamas,frank zaga...</td>\n",
       "      <td>united states</td>\n",
       "      <td>Action</td>\n",
       "      <td>2004</td>\n",
       "      <td>Lethal_(film)</td>\n",
       "    </tr>\n",
       "    <tr>\n",
       "      <th>6200</th>\n",
       "      <td>Tucker &amp; Dale vs Evil</td>\n",
       "      <td>eli craig</td>\n",
       "      <td>tyler labine,alan tudyk,katrina bowden</td>\n",
       "      <td>canada united states</td>\n",
       "      <td>Horror</td>\n",
       "      <td>2010</td>\n",
       "      <td>Tucker_%26_Dale_vs._Evil</td>\n",
       "    </tr>\n",
       "  </tbody>\n",
       "</table>\n",
       "<p>5780 rows × 7 columns</p>\n",
       "</div>"
      ],
      "text/plain": [
       "                                              Title  \\\n",
       "0                                          365 Days   \n",
       "1                                              7500   \n",
       "2                                         Archenemy   \n",
       "3                                         Asuraguru   \n",
       "4                                         Aswathama   \n",
       "...                                             ...   \n",
       "6196          The League of Extraordinary Gentlemen   \n",
       "6197                                    The Promise   \n",
       "6198  Legend of the Guardians: The Owls of Ga'Hoole   \n",
       "6199                                         Lethal   \n",
       "6200                          Tucker & Dale vs Evil   \n",
       "\n",
       "                           Director  \\\n",
       "0     barbara biaowas tomasz mandes   \n",
       "1                  patrick vollrath   \n",
       "2               adam egypt mortimer   \n",
       "3                        araajdheep   \n",
       "4                       ramana teja   \n",
       "...                             ...   \n",
       "6196             stephen norrington   \n",
       "6197                     chen kaige   \n",
       "6198                    zack snyder   \n",
       "6199                  dustin rikert   \n",
       "6200                      eli craig   \n",
       "\n",
       "                                                   Cast               Country  \\\n",
       "0     anna-maria sieklucka,michele morrone, bronisaw...                europe   \n",
       "1                      joseph gordon-levitt,aylin tezel                   mix   \n",
       "2     joe manganiello,skylan brooks, zolee griggs,pa...                   mix   \n",
       "3      vikram prabhu,mahima nambiar,subbaraju,yogi babu                 india   \n",
       "4                          naga shourya,mehreen pirzada                 india   \n",
       "...                                                 ...                   ...   \n",
       "6196            sean connery,shane west,stuart townsend         united states   \n",
       "6197       hiroyuki sanada,jang dong-gun,cecilia cheung                 china   \n",
       "6198  jim sturgess,joel edgerton,geoffrey rush,hugo ...                   mix   \n",
       "6199  heather marie marsden,lorenzo lamas,frank zaga...         united states   \n",
       "6200             tyler labine,alan tudyk,katrina bowden  canada united states   \n",
       "\n",
       "         Genre  Year                                         Hyperref  \n",
       "0     Thriller  2020                             365_Days_(2020_film)  \n",
       "1       Action  2020                                      7500_(film)  \n",
       "2       Action  2020                                 Archenemy_(film)  \n",
       "3       Action  2020                                        Asuraguru  \n",
       "4       Action  2020                                 Aswathama_(film)  \n",
       "...        ...   ...                                              ...  \n",
       "6196       Mix  2003     The_League_of_Extraordinary_Gentlemen_(film)  \n",
       "6197       Mix  2005                          The_Promise_(2005_film)  \n",
       "6198   Fantasy  2010  Legend_of_the_Guardians:_The_Owls_of_Ga%27Hoole  \n",
       "6199    Action  2004                                    Lethal_(film)  \n",
       "6200    Horror  2010                         Tucker_%26_Dale_vs._Evil  \n",
       "\n",
       "[5780 rows x 7 columns]"
      ]
     },
     "execution_count": 45,
     "metadata": {},
     "output_type": "execute_result"
    }
   ],
   "source": [
    "df_movies"
   ]
  },
  {
   "cell_type": "code",
   "execution_count": 48,
   "metadata": {},
   "outputs": [],
   "source": [
    "# Create undirected Graph\n",
    "G_movies = nx.Graph()\n",
    "\n",
    "# Adding nodes\n",
    "movies_nodes = list(connected_movies.keys())\n",
    "G_movies.add_nodes_from(movies_nodes)\n",
    "\n",
    "node_attr = df_movies[['Title','Director','Cast','Country','Genre', \n",
    "                'Year']].set_index('Title').to_dict('index') # Creating a dictionary with the characters and their attributes\n",
    "\n",
    "nx.set_node_attributes(G_movies, node_attr) #Adding attributes to the graph\n",
    "\n",
    "for movie in connected_movies.keys():\n",
    "    for connected_movie in connected_movies[movie]: \n",
    "        weight = len(connected_movies[movie][connected_movie])\n",
    "        attribute_value = connected_movies[movie][connected_movie]\n",
    "        G_movies.add_edges_from([(movie, connected_movie)], weight=weight, attribute_name=attribute_value)"
   ]
  },
  {
   "cell_type": "code",
   "execution_count": 50,
   "metadata": {},
   "outputs": [
    {
     "name": "stdout",
     "output_type": "stream",
     "text": [
      "The network consist of:  5780  nodes (Movies)\n",
      "The network consist of:  37253  edges\n"
     ]
    }
   ],
   "source": [
    "print(\"The network consist of: \", G_movies.number_of_nodes(), \" nodes (Movies)\")\n",
    "print(\"The network consist of: \", G_movies.number_of_edges(), \" edges\")"
   ]
  },
  {
   "cell_type": "code",
   "execution_count": 54,
   "metadata": {},
   "outputs": [
    {
     "name": "stdout",
     "output_type": "stream",
     "text": [
      "{'weight': 3, 'attribute_name': ['michele morrone', 'anna-maria sieklucka', 'magdalena lamparska']}\n"
     ]
    }
   ],
   "source": [
    "print(G_movies.edges[\"365 Days: This Day\", \"365 Days\"])"
   ]
  },
  {
   "cell_type": "code",
   "execution_count": 55,
   "metadata": {},
   "outputs": [
    {
     "name": "stdout",
     "output_type": "stream",
     "text": [
      "{'Director': 'barbara biaowas,tomasz mandes', 'Cast': 'anna-maria sieklucka,michele morrone, rebecca casiraghi,magdalena lamparska', 'Country': 'europe', 'Genre': 'Thriller', 'Year': '2022'}\n"
     ]
    }
   ],
   "source": [
    "print(G_movies.nodes[\"365 Days: This Day\"])"
   ]
  }
 ],
 "metadata": {
  "kernelspec": {
   "display_name": "base",
   "language": "python",
   "name": "python3"
  },
  "language_info": {
   "codemirror_mode": {
    "name": "ipython",
    "version": 3
   },
   "file_extension": ".py",
   "mimetype": "text/x-python",
   "name": "python",
   "nbconvert_exporter": "python",
   "pygments_lexer": "ipython3",
   "version": "3.8.8"
  }
 },
 "nbformat": 4,
 "nbformat_minor": 2
}
