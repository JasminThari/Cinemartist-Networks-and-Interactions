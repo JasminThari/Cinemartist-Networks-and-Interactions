{
 "cells": [
  {
   "cell_type": "markdown",
   "metadata": {},
   "source": [
    "# Import packages"
   ]
  },
  {
   "cell_type": "code",
   "execution_count": 144,
   "metadata": {},
   "outputs": [],
   "source": [
    "import pandas as pd\n",
    "import json\n",
    "import requests\n",
    "from bs4 import BeautifulSoup\n",
    "import csv\n",
    "import regex as re\n",
    "import unicodedata\n",
    "import seaborn as sns\n",
    "import matplotlib.pyplot as plt\n",
    "import networkx as nx \n",
    "from collections import Counter\n",
    "from fa2 import ForceAtlas2\n",
    "from Functions import DataCollection, DataCleaning, GetConnectedMoviesArtist\n",
    "from imdb import IMDb\n",
    "import community.community_louvain as cl\n",
    "import community\n",
    "import numpy as np "
   ]
  },
  {
   "cell_type": "markdown",
   "metadata": {},
   "source": [
    "# Colors "
   ]
  },
  {
   "cell_type": "code",
   "execution_count": 312,
   "metadata": {},
   "outputs": [
    {
     "data": {
      "image/png": "[encoded data removed]",
      "text/plain": [
       "<Figure size 1440x144 with 1 Axes>"
      ]
     },
     "metadata": {},
     "output_type": "display_data"
    }
   ],
   "source": [
    "color_palette_cividis = sns.color_palette(\"cividis\", 40)\n",
    "color_palette_plasma = sns.color_palette(\"plasma\", 40)\n",
    "color_palette_cividis_reversed = list(reversed(color_palette_cividis))\n",
    "color_palette = color_palette_plasma + color_palette_cividis_reversed\n",
    "plt.figure(figsize = (20,2))\n",
    "plt.imshow([color_palette])\n",
    "plt.axis('off')\n",
    "plt.show()"
   ]
  },
  {
   "cell_type": "code",
   "execution_count": 333,
   "metadata": {},
   "outputs": [],
   "source": [
    "one_color = color_palette[:1]\n",
    "two_colors = color_palette[::8][0:2]\n",
    "three_ratings_colors = color_palette[::6][0:3]\n",
    "genre_colors = color_palette[::7][0:8]"
   ]
  },
  {
   "cell_type": "code",
   "execution_count": 335,
   "metadata": {},
   "outputs": [
    {
     "data": {
      "image/png": "[encoded data removed]",
      "text/plain": [
       "<Figure size 1440x144 with 1 Axes>"
      ]
     },
     "metadata": {},
     "output_type": "display_data"
    }
   ],
   "source": [
    "plt.figure(figsize = (20,2))\n",
    "plt.imshow([one_color])\n",
    "plt.axis('off')\n",
    "plt.show()"
   ]
  },
  {
   "cell_type": "markdown",
   "metadata": {},
   "source": [
    "# Data Collection "
   ]
  },
  {
   "cell_type": "code",
   "execution_count": 87,
   "metadata": {},
   "outputs": [],
   "source": [
    "# params = {\n",
    "#         \"thriller\": {\"years\": [\"2020s\",\"2010s\", \"2000s\"],\n",
    "#                 \"sub_years\": [[\"2020\", \"2021\", \"2022\"],[\"2010\", \"2011\", \"2012\",\"2013\",\"2014\",\"2015\",\"2016\",\"2017\",\"2018\",\"2019\"],[[]]]}, \n",
    "#         \"action\": {\"years\": [\"2020s\",\"2010s\", \"2000s\"],\n",
    "#                 \"sub_years\": [[\"2020\", \"2021\", \"2022\"],[\"2010\", \"2011\", \"2012\",\"2013\",\"2014\",\"2015\",\"2016\",\"2017\",\"2018\",\"2019\"],[\"2000\", \"2001\", \"2002\",\"2003\",\"2004\",\"2005\",\"2006\",\"2007\",\"2008\",\"2009\"]]},             \n",
    "#         \"comedy\": {\"years\": [\"2020s\",\"2010s\", \"2000s\"],\n",
    "#                 \"sub_years\": [[\"2020\", \"2021\", \"2022\"],[\"2010\", \"2011\", \"2012\",\"2013\",\"2014\",\"2015\",\"2016\",\"2017\",\"2018\",\"2019\"],[\"2000\", \"2001\", \"2002\",\"2003\",\"2004\",\"2005\",\"2006\",\"2007\"]]},\n",
    "#         \"adventure\": {\"years\": [\"2020s\",\"2010s\", \"2000s\"],\n",
    "#                 \"sub_years\": [[\"2020\", \"2021\", \"2022\", \"2023\"], [\"2010\", \"2011\", \"2012\",\"2013\",\"2014\",\"2015\",\"2016\",\"2017\",\"2018\",\"2019\"], [\"2000\", \"2001\", \"2002\",\"2003\",\"2004\",\"2005\",\"2006\",\"2007\",\"2008\",\"2009\"]]}, \n",
    "#         \"horror\": {\"years\": [\"2020\", \"2021\", \"2022\", \"2010\",\"2011\",\"2012\",\"2013\",\"2014\",\"2015\",\"2016\",\"2017\",\"2018\",\"2019\", \"2000\", \"2001\", \"2002\",\"2003\",\"2004\",\"2005\",\"2006\",\"2007\",\"2008\",\"2009\"], \n",
    "#                 \"sub_years\": [[],[],[],[],[],[],[],[],[],[],[],[],[],[],[],[],[],[],[],[],[],[],[]]},\n",
    "#         \"fantasy\": {\"years\": [\"2020s\",\"2010s\", \"2000s\"],\n",
    "#                 \"sub_years\": [[[]],[[]],[[]]]}, \n",
    "#         \"science_fiction\": {\"years\": [\"2020s\", \"2010s\", \"2000s\"],\n",
    "#                 \"sub_years\": [[[]],[[]],[[]]]}, \n",
    "#         }\n",
    "\n",
    "# data_collection = DataCollection()\n",
    "# data_movie_artist = pd.DataFrame()\n",
    "# for genre in params.keys():\n",
    "#     for years, sub_years in zip(params[genre][\"years\"],params[genre][\"sub_years\"]):\n",
    "#         data = data_collection.collect_movies_artist_data(genre, years, sub_years)\n",
    "#         data_movie_artist = pd.concat([data_movie_artist, data]) \n",
    "\n",
    "# data_movie_artist = data_movie_artist.reset_index(drop=True)"
   ]
  },
  {
   "cell_type": "code",
   "execution_count": 88,
   "metadata": {},
   "outputs": [
    {
     "data": {
      "text/plain": [
       "(7456, 7)"
      ]
     },
     "execution_count": 88,
     "metadata": {},
     "output_type": "execute_result"
    }
   ],
   "source": [
    "data_movie_artist = pd.read_json('data_movie_artist.json', orient='table')\n",
    "data_movie_artist.shape"
   ]
  },
  {
   "cell_type": "markdown",
   "metadata": {},
   "source": [
    "# Data Cleaning"
   ]
  },
  {
   "cell_type": "code",
   "execution_count": 89,
   "metadata": {},
   "outputs": [],
   "source": [
    "# data_cleaner = DataCleaning(data_movie_artist)\n",
    "# data_cleaner.data_cleaning()\n",
    "# df_movies = data_cleaner.data"
   ]
  },
  {
   "cell_type": "code",
   "execution_count": 90,
   "metadata": {},
   "outputs": [
    {
     "data": {
      "text/plain": [
       "(5780, 7)"
      ]
     },
     "execution_count": 90,
     "metadata": {},
     "output_type": "execute_result"
    }
   ],
   "source": [
    "df_movies = pd.read_json('df_movies.json', orient='table')\n",
    "df_movies.shape"
   ]
  },
  {
   "cell_type": "code",
   "execution_count": null,
   "metadata": {},
   "outputs": [],
   "source": []
  },
  {
   "cell_type": "markdown",
   "metadata": {},
   "source": [
    "# Get Ratings"
   ]
  },
  {
   "cell_type": "code",
   "execution_count": null,
   "metadata": {},
   "outputs": [],
   "source": [
    "# # Initialize the IMDb object\n",
    "# ia = IMDb()\n",
    "\n",
    "# # Function to get movie rating\n",
    "# def get_movie_rating(title):\n",
    "#     try:\n",
    "#         movie = ia.search_movie(title)[0]  # Assume the first search result is the correct movie\n",
    "#         ia.update(movie)\n",
    "#         return movie.data['rating']\n",
    "#     except Exception as e:\n",
    "#         return None\n",
    "\n",
    "# # Add a new column to the DataFrame with the ratings\n",
    "# df_movies['Rating'] = df_movies['Title'].apply(get_movie_rating)"
   ]
  },
  {
   "cell_type": "code",
   "execution_count": 162,
   "metadata": {},
   "outputs": [
    {
     "data": {
      "text/plain": [
       "(5780, 8)"
      ]
     },
     "execution_count": 162,
     "metadata": {},
     "output_type": "execute_result"
    }
   ],
   "source": [
    "df_movies_ratings = pd.read_json('with_ratings.json', orient='table')\n",
    "df_movies_ratings.shape"
   ]
  },
  {
   "cell_type": "code",
   "execution_count": 163,
   "metadata": {},
   "outputs": [
    {
     "name": "stdout",
     "output_type": "stream",
     "text": [
      "428\n"
     ]
    }
   ],
   "source": [
    "# Movies without rating\n",
    "print(df_movies_ratings['Rating'].isnull().sum())\n",
    "# we drop them\n",
    "df_movies_ratings = df_movies_ratings.dropna()"
   ]
  },
  {
   "cell_type": "code",
   "execution_count": 215,
   "metadata": {},
   "outputs": [
    {
     "name": "stdout",
     "output_type": "stream",
     "text": [
      "5.0\n",
      "7.0\n"
     ]
    }
   ],
   "source": [
    "percentile_25 = df_movies_ratings['Rating'].quantile(0.20) \n",
    "print(percentile_25)\n",
    "percentile_75 = df_movies_ratings['Rating'].quantile(0.80)\n",
    "print(percentile_75)"
   ]
  },
  {
   "cell_type": "code",
   "execution_count": 216,
   "metadata": {},
   "outputs": [],
   "source": [
    "# Function to apply the conditions\n",
    "def label_rating(row):\n",
    "    if row < percentile_25:\n",
    "        return 'Low'\n",
    "    elif row >= percentile_75:\n",
    "        return 'High'\n",
    "    else:\n",
    "        return 'Moderate'\n",
    "\n",
    "# Apply the function to create a new column\n",
    "df_movies_ratings['RatingLabel'] = df_movies_ratings['Rating'].apply(label_rating)"
   ]
  },
  {
   "cell_type": "code",
   "execution_count": 235,
   "metadata": {},
   "outputs": [],
   "source": [
    "def categorize_year(year):\n",
    "    if \"2000\" <= year <= \"2009\":\n",
    "        return \"00-09\"\n",
    "    elif \"2010\" <= year <= \"2019\":\n",
    "        return \"10-19\"\n",
    "    else:\n",
    "        return \"20-29\"\n",
    "\n",
    "# Apply the function to create a new column\n",
    "df_movies_ratings['Decade'] = df_movies_ratings['Year'].apply(categorize_year)"
   ]
  },
  {
   "cell_type": "code",
   "execution_count": 217,
   "metadata": {},
   "outputs": [
    {
     "data": {
      "text/plain": [
       "(5352, 9)"
      ]
     },
     "execution_count": 217,
     "metadata": {},
     "output_type": "execute_result"
    }
   ],
   "source": [
    "df_movies_ratings = pd.read_json('df_movies_ratings.json', orient='table')\n",
    "df_movies_ratings.shape"
   ]
  },
  {
   "cell_type": "code",
   "execution_count": 236,
   "metadata": {},
   "outputs": [
    {
     "data": {
      "text/html": [
       "<div>\n",
       "<style scoped>\n",
       "    .dataframe tbody tr th:only-of-type {\n",
       "        vertical-align: middle;\n",
       "    }\n",
       "\n",
       "    .dataframe tbody tr th {\n",
       "        vertical-align: top;\n",
       "    }\n",
       "\n",
       "    .dataframe thead th {\n",
       "        text-align: right;\n",
       "    }\n",
       "</style>\n",
       "<table border=\"1\" class=\"dataframe\">\n",
       "  <thead>\n",
       "    <tr style=\"text-align: right;\">\n",
       "      <th></th>\n",
       "      <th>Title</th>\n",
       "      <th>Director</th>\n",
       "      <th>Cast</th>\n",
       "      <th>Country</th>\n",
       "      <th>Genre</th>\n",
       "      <th>Year</th>\n",
       "      <th>Hyperref</th>\n",
       "      <th>Rating</th>\n",
       "      <th>RatingLabel</th>\n",
       "      <th>decade</th>\n",
       "      <th>Decade</th>\n",
       "    </tr>\n",
       "  </thead>\n",
       "  <tbody>\n",
       "    <tr>\n",
       "      <th>0</th>\n",
       "      <td>365 Days</td>\n",
       "      <td>barbara biaowas tomasz mandes</td>\n",
       "      <td>anna-maria sieklucka,michele morrone, bronisaw...</td>\n",
       "      <td>europe</td>\n",
       "      <td>Thriller</td>\n",
       "      <td>2020</td>\n",
       "      <td>365_Days_(2020_film)</td>\n",
       "      <td>3.3</td>\n",
       "      <td>Low</td>\n",
       "      <td>20-29</td>\n",
       "      <td>20-29</td>\n",
       "    </tr>\n",
       "    <tr>\n",
       "      <th>1</th>\n",
       "      <td>7500</td>\n",
       "      <td>patrick vollrath</td>\n",
       "      <td>joseph gordon-levitt,aylin tezel</td>\n",
       "      <td>mix</td>\n",
       "      <td>Action</td>\n",
       "      <td>2020</td>\n",
       "      <td>7500_(film)</td>\n",
       "      <td>6.3</td>\n",
       "      <td>Moderate</td>\n",
       "      <td>20-29</td>\n",
       "      <td>20-29</td>\n",
       "    </tr>\n",
       "  </tbody>\n",
       "</table>\n",
       "</div>"
      ],
      "text/plain": [
       "      Title                       Director  \\\n",
       "0  365 Days  barbara biaowas tomasz mandes   \n",
       "1      7500               patrick vollrath   \n",
       "\n",
       "                                                Cast Country     Genre  Year  \\\n",
       "0  anna-maria sieklucka,michele morrone, bronisaw...  europe  Thriller  2020   \n",
       "1                   joseph gordon-levitt,aylin tezel     mix    Action  2020   \n",
       "\n",
       "               Hyperref  Rating RatingLabel decade Decade  \n",
       "0  365_Days_(2020_film)     3.3         Low  20-29  20-29  \n",
       "1           7500_(film)     6.3    Moderate  20-29  20-29  "
      ]
     },
     "execution_count": 236,
     "metadata": {},
     "output_type": "execute_result"
    }
   ],
   "source": [
    "df_movies_ratings.head(2)"
   ]
  },
  {
   "cell_type": "code",
   "execution_count": 219,
   "metadata": {},
   "outputs": [
    {
     "data": {
      "text/plain": [
       "Moderate    2711\n",
       "High        1416\n",
       "Low         1225\n",
       "Name: RatingLabel, dtype: int64"
      ]
     },
     "execution_count": 219,
     "metadata": {},
     "output_type": "execute_result"
    }
   ],
   "source": [
    "df_movies_ratings['RatingLabel'].value_counts()"
   ]
  },
  {
   "cell_type": "markdown",
   "metadata": {},
   "source": [
    "______"
   ]
  },
  {
   "cell_type": "markdown",
   "metadata": {},
   "source": [
    "# Basic Statistics"
   ]
  },
  {
   "cell_type": "markdown",
   "metadata": {},
   "source": [
    "### Genre distribution"
   ]
  },
  {
   "cell_type": "code",
   "execution_count": 12,
   "metadata": {},
   "outputs": [
    {
     "data": {
      "image/png": "[encoded data removed]",
      "text/plain": [
       "<Figure size 1440x432 with 1 Axes>"
      ]
     },
     "metadata": {},
     "output_type": "display_data"
    }
   ],
   "source": [
    "genre_counts = df_movies_ratings['Genre'].value_counts()\n",
    "genre_counts = genre_counts.reset_index()\n",
    "genre_counts.columns = ['Genre', 'Count']\n",
    "\n",
    "# Create the bar plot\n",
    "sns.set(style=\"white\") \n",
    "plt.figure(figsize=(15, 6)) \n",
    "barplot = sns.barplot(x='Genre', y='Count', data=genre_counts, color=color_palette2)\n",
    "\n",
    "# Rotate the labels on x-axis for better readability\n",
    "plt.title('Genre Distribution of Movies', fontsize=20)\n",
    "plt.xlabel('Genre', fontsize=16)\n",
    "plt.ylabel('Number of Movies', fontsize=16)\n",
    "\n",
    "# Add count numbers on each bar\n",
    "for p in barplot.patches:\n",
    "    barplot.annotate(format(p.get_height(), '.0f'), \n",
    "                     (p.get_x() + p.get_width() / 2., p.get_height()), \n",
    "                     ha = 'center', va = 'center', \n",
    "                     xytext = (0, 9), \n",
    "                     textcoords = 'offset points',\n",
    "                     fontsize=14)\n",
    "plt.show()"
   ]
  },
  {
   "cell_type": "markdown",
   "metadata": {},
   "source": [
    "### Movies over time "
   ]
  },
  {
   "cell_type": "code",
   "execution_count": 13,
   "metadata": {},
   "outputs": [
    {
     "data": {
      "image/png": "[encoded data removed]",
      "text/plain": [
       "<Figure size 1440x432 with 1 Axes>"
      ]
     },
     "metadata": {},
     "output_type": "display_data"
    }
   ],
   "source": [
    "df_movies_ratings['Year'] = pd.to_numeric(df_movies_ratings['Year'], errors='coerce')\n",
    "movies_per_year = df_movies_ratings.groupby('Year').size()\n",
    "movies_per_year = movies_per_year.reset_index()\n",
    "movies_per_year.columns = ['Year', 'Number of Movies']\n",
    "\n",
    "# Create the bar plot\n",
    "sns.set(style=\"whitegrid\")\n",
    "plt.figure(figsize=(20, 6))\n",
    "barplot = sns.barplot(x='Year', y='Number of Movies', data=movies_per_year)\n",
    "plt.xticks(fontsize=14)\n",
    "plt.title('Number of Movies Over Time', fontsize=20)\n",
    "plt.xlabel('Year', fontsize=16)\n",
    "plt.ylabel('Number of Movies', fontsize=16)\n",
    "\n",
    "# Add count numbers on each bar\n",
    "for p in barplot.patches:\n",
    "    barplot.annotate(format(p.get_height(), '.0f'), \n",
    "                     (p.get_x() + p.get_width() / 2., p.get_height()), \n",
    "                     ha = 'center', va = 'center', \n",
    "                     xytext = (0, 9), \n",
    "                     textcoords = 'offset points',\n",
    "                     fontsize=14)\n",
    "plt.show()"
   ]
  },
  {
   "cell_type": "markdown",
   "metadata": {},
   "source": [
    "### Country distribution"
   ]
  },
  {
   "cell_type": "code",
   "execution_count": 226,
   "metadata": {},
   "outputs": [
    {
     "data": {
      "image/png": "[encoded data removed]",
      "text/plain": [
       "<Figure size 1440x432 with 1 Axes>"
      ]
     },
     "metadata": {},
     "output_type": "display_data"
    }
   ],
   "source": [
    "genre_counts = df_movies_ratings['Country'].value_counts()\n",
    "genre_counts = genre_counts.reset_index()\n",
    "genre_counts.columns = ['Country', 'Count']\n",
    "\n",
    "# Create the bar plot\n",
    "sns.set(style=\"whitegrid\") \n",
    "plt.figure(figsize=(20, 6)) \n",
    "barplot = sns.barplot(x='Country', y='Count', data=genre_counts)\n",
    "\n",
    "# Rotate the labels on x-axis for better readability\n",
    "plt.xticks(rotation=45, ha='right', fontsize=14)\n",
    "plt.title('Country Distribution in Movies', fontsize=20)\n",
    "plt.xlabel('Country', fontsize=16)\n",
    "plt.ylabel('Number of Movies', fontsize=16)\n",
    "\n",
    "# Add count numbers on each bar\n",
    "for p in barplot.patches:\n",
    "    barplot.annotate(format(p.get_height(), '.0f'), \n",
    "                     (p.get_x() + p.get_width() / 2., p.get_height()), \n",
    "                     ha = 'center', va = 'center', \n",
    "                     xytext = (0, 9), \n",
    "                     textcoords = 'offset points',\n",
    "                     fontsize=14)\n",
    "plt.show()"
   ]
  },
  {
   "cell_type": "markdown",
   "metadata": {},
   "source": [
    "____________\n"
   ]
  },
  {
   "cell_type": "markdown",
   "metadata": {},
   "source": [
    "# Network Science"
   ]
  },
  {
   "cell_type": "markdown",
   "metadata": {},
   "source": [
    "## Get connections between Movies and Artists"
   ]
  },
  {
   "cell_type": "code",
   "execution_count": null,
   "metadata": {},
   "outputs": [],
   "source": [
    "# get_connected_movies_artists = GetConnectedMoviesArtist()\n",
    "# connected_movies = get_connected_movies_artists.connected_movies_and_cast(df_movies_ratings)\n",
    "# with open('connected_movies_and_casts.json', 'w') as file:\n",
    "#     json.dump(connected_movies, file, indent=4)\n",
    "with open('connected_movies_and_casts.json', 'r') as file:\n",
    "    connected_movies = json.load(file)\n",
    "len(connected_movies.keys())"
   ]
  },
  {
   "cell_type": "markdown",
   "metadata": {},
   "source": [
    "## Create Network and add attributes"
   ]
  },
  {
   "cell_type": "code",
   "execution_count": 251,
   "metadata": {},
   "outputs": [],
   "source": [
    "# Create undirected Graph\n",
    "G_movies = nx.Graph()\n",
    "\n",
    "# Adding nodes\n",
    "movies_nodes = list(connected_movies.keys())\n",
    "G_movies.add_nodes_from(movies_nodes)\n",
    "\n",
    "node_attr = df_movies_ratings[['Title','Director','Cast','Country','Genre', 'RatingLabel',\n",
    "                'Year', 'Decade']].set_index('Title').to_dict('index') # Creating a dictionary with the characters and their attributes\n",
    "\n",
    "nx.set_node_attributes(G_movies, node_attr) #Adding attributes to the graph\n",
    "\n",
    "for movie in connected_movies.keys():\n",
    "    for connected_movie in connected_movies[movie]: \n",
    "        weight = len(connected_movies[movie][connected_movie])\n",
    "        attribute_value = connected_movies[movie][connected_movie]\n",
    "        G_movies.add_edges_from([(movie, connected_movie)], weight=weight, attribute_name=attribute_value)"
   ]
  },
  {
   "cell_type": "code",
   "execution_count": 221,
   "metadata": {},
   "outputs": [
    {
     "name": "stdout",
     "output_type": "stream",
     "text": [
      "{'weight': 3, 'attribute_name': ['magdalena lamparska', 'michele morrone', 'anna-maria sieklucka']}\n"
     ]
    }
   ],
   "source": [
    "print(G_movies.edges[\"365 Days: This Day\", \"365 Days\"])"
   ]
  },
  {
   "cell_type": "code",
   "execution_count": 222,
   "metadata": {},
   "outputs": [
    {
     "name": "stdout",
     "output_type": "stream",
     "text": [
      "{'Director': 'barbara biaowas,tomasz mandes', 'Cast': 'anna-maria sieklucka,michele morrone, rebecca casiraghi,magdalena lamparska', 'Country': 'europe', 'Genre': 'Thriller', 'RatingLabel': 'Low', 'Year': '2022'}\n"
     ]
    }
   ],
   "source": [
    "print(G_movies.nodes[\"365 Days: This Day\"])"
   ]
  },
  {
   "cell_type": "code",
   "execution_count": 194,
   "metadata": {},
   "outputs": [
    {
     "name": "stdout",
     "output_type": "stream",
     "text": [
      "The network consist of:  5352  nodes (Movies)\n",
      "The network consist of:  34122  edges\n"
     ]
    }
   ],
   "source": [
    "print(\"The network consist of: \", G_movies.number_of_nodes(), \" nodes (Movies)\")\n",
    "print(\"The network consist of: \", G_movies.number_of_edges(), \" edges\")"
   ]
  },
  {
   "cell_type": "markdown",
   "metadata": {},
   "source": [
    "## Get Largest Connected Component"
   ]
  },
  {
   "cell_type": "code",
   "execution_count": 252,
   "metadata": {},
   "outputs": [],
   "source": [
    "#Extracting the largest component\n",
    "connected_components = nx.connected_components(G_movies)\n",
    "# Finding the largest connected component\n",
    "largest_cc = max(connected_components, key=len)\n",
    "# Creating a subgraph for the largest connected component\n",
    "G_largest_cc = G_movies.subgraph(largest_cc).copy()"
   ]
  },
  {
   "cell_type": "code",
   "execution_count": 250,
   "metadata": {},
   "outputs": [
    {
     "name": "stdout",
     "output_type": "stream",
     "text": [
      "The largest connected component network consist of:  4029  nodes (Movies)\n",
      "The largest connected component network consist of:  33730  edges\n"
     ]
    }
   ],
   "source": [
    "print(\"The largest connected component network consist of: \", G_largest_cc.number_of_nodes(), \" nodes (Movies)\")\n",
    "print(\"The largest connected component network consist of: \", G_largest_cc.number_of_edges(), \" edges\")"
   ]
  },
  {
   "cell_type": "markdown",
   "metadata": {},
   "source": [
    "## Plot Network JOJO color after RatingLabels\n",
    "- if time do also for genre, but not important for now"
   ]
  },
  {
   "cell_type": "code",
   "execution_count": null,
   "metadata": {},
   "outputs": [],
   "source": []
  },
  {
   "cell_type": "markdown",
   "metadata": {},
   "source": [
    "# Assortativity analysis "
   ]
  },
  {
   "cell_type": "code",
   "execution_count": 249,
   "metadata": {},
   "outputs": [
    {
     "data": {
      "text/plain": [
       "0.33712467636528853"
      ]
     },
     "execution_count": 249,
     "metadata": {},
     "output_type": "execute_result"
    }
   ],
   "source": [
    "nx.degree_assortativity_coefficient(G_largest_cc)"
   ]
  },
  {
   "cell_type": "code",
   "execution_count": 253,
   "metadata": {},
   "outputs": [
    {
     "data": {
      "text/plain": [
       "0.14011725941445055"
      ]
     },
     "execution_count": 253,
     "metadata": {},
     "output_type": "execute_result"
    }
   ],
   "source": [
    "nx.attribute_assortativity_coefficient(G_largest_cc, 'Genre')"
   ]
  },
  {
   "cell_type": "code",
   "execution_count": 240,
   "metadata": {},
   "outputs": [
    {
     "data": {
      "text/plain": [
       "0.07406899877737227"
      ]
     },
     "execution_count": 240,
     "metadata": {},
     "output_type": "execute_result"
    }
   ],
   "source": [
    "nx.attribute_assortativity_coefficient(G_largest_cc, 'RatingLabel')"
   ]
  },
  {
   "cell_type": "code",
   "execution_count": 239,
   "metadata": {},
   "outputs": [
    {
     "data": {
      "text/plain": [
       "0.11670078205832192"
      ]
     },
     "execution_count": 239,
     "metadata": {},
     "output_type": "execute_result"
    }
   ],
   "source": [
    "nx.attribute_assortativity_coefficient(G_largest_cc, 'Decade')"
   ]
  },
  {
   "cell_type": "markdown",
   "metadata": {},
   "source": [
    "### Permutation test of degress"
   ]
  },
  {
   "cell_type": "markdown",
   "metadata": {},
   "source": [
    "- Shuffling edges while preserving node degrees. This process allows you to assess whether the observed degree assortativity coefficient is significant or could have occurred by random chance.\n",
    "- Shuffle Edges: Randomly rewire the edges in the network while preserving the degree of each node. This can be done using the nx.double_edge_swap function, which randomly swaps the edges in the graph but keeps the degree sequence the same.\n",
    "- Compute Assortativity for Each Permutation: Calculate the degree assortativity coefficient for each of these rewired graphs.\n"
   ]
  },
  {
   "cell_type": "code",
   "execution_count": 264,
   "metadata": {},
   "outputs": [
    {
     "name": "stdout",
     "output_type": "stream",
     "text": [
      "Original Coefficient: 0.33712467636528853\n",
      "P-Value: 0.0\n"
     ]
    }
   ],
   "source": [
    "original_coefficient = nx.degree_assortativity_coefficient(G_largest_cc)\n",
    "\n",
    "# Number of permutations\n",
    "n_permutations = 1000\n",
    "permuted_coefficients = []\n",
    "\n",
    "# Make a copy of the original graph for permutation\n",
    "G_permuted = G_largest_cc.copy()\n",
    "\n",
    "for _ in range(n_permutations):\n",
    "    # Perform edge swaps to shuffle the graph while preserving degree sequence\n",
    "    G_shuffled = nx.double_edge_swap(G_permuted, nswap=10*len(G_permuted.edges()), max_tries=50*len(G_permuted.edges()))\n",
    "\n",
    "    # Calculate degree assortativity coefficient for the shuffled graph\n",
    "    coeff = nx.degree_assortativity_coefficient(G_shuffled)\n",
    "    permuted_coefficients.append(coeff)\n",
    "\n",
    "# Calculate the p-value\n",
    "p_value = sum(1 for coeff in permuted_coefficients if coeff >= original_coefficient) / n_permutations\n",
    "\n",
    "print(f\"Original Coefficient: {original_coefficient}\")\n",
    "print(f\"P-Value: {p_value}\")\n"
   ]
  },
  {
   "cell_type": "markdown",
   "metadata": {},
   "source": [
    "### Permutation test of Rating"
   ]
  },
  {
   "cell_type": "code",
   "execution_count": 262,
   "metadata": {},
   "outputs": [
    {
     "name": "stdout",
     "output_type": "stream",
     "text": [
      "Original Coefficient: 0.07406899877737227\n",
      "P-Value: 0.0\n",
      "significant\n"
     ]
    }
   ],
   "source": [
    "# Assuming G_largest_cc is your original graph\n",
    "original_coefficient = nx.attribute_assortativity_coefficient(G_largest_cc, 'RatingLabel')\n",
    "\n",
    "# Number of permutations\n",
    "n_permutations = 1000\n",
    "permuted_coefficients = []\n",
    "\n",
    "for _ in range(n_permutations):\n",
    "    # Shuffle the Rating attribute among nodes\n",
    "    G_permu = G_largest_cc.copy()\n",
    "    genres = [G_permu.nodes[n]['RatingLabel'] for n in G_permu.nodes()]\n",
    "    np.random.shuffle(genres)\n",
    "    \n",
    "    # Assign the shuffled genres back to the nodes\n",
    "    for n, genre in zip(G_permu.nodes(), genres):\n",
    "        G_permu.nodes[n]['RatingLabel'] = genre\n",
    "    \n",
    "    # Calculate assortativity coefficient for the permuted graph\n",
    "    coeff = nx.attribute_assortativity_coefficient(G_permu, 'RatingLabel')\n",
    "    permuted_coefficients.append(coeff)\n",
    "\n",
    "# Calculate the p-value\n",
    "p_value = sum(1 for coeff in permuted_coefficients if coeff >= original_coefficient) / n_permutations\n",
    "# (np.sum([result >= original_coefficient for result in permuted_coefficients]) + 1) / (1000 + 1)\n",
    "\n",
    "print(f\"Original Coefficient: {original_coefficient}\")\n",
    "print(f\"P-Value: {p_value}\")\n",
    "\n",
    "if p_value <= 0.05:\n",
    "    print(f\"significant\")\n",
    "else:\n",
    "    print(f\"There is no significant difference\")"
   ]
  },
  {
   "cell_type": "markdown",
   "metadata": {},
   "source": [
    "### Permutation test of Genre"
   ]
  },
  {
   "cell_type": "code",
   "execution_count": 256,
   "metadata": {},
   "outputs": [
    {
     "name": "stdout",
     "output_type": "stream",
     "text": [
      "Original Coefficient: 0.14011725941445055\n",
      "P-Value: 0.0\n"
     ]
    }
   ],
   "source": [
    "# Assuming G_largest_cc is your original graph\n",
    "original_coefficient = nx.attribute_assortativity_coefficient(G_largest_cc, 'Genre')\n",
    "\n",
    "# Number of permutations\n",
    "n_permutations = 1000\n",
    "permuted_coefficients = []\n",
    "\n",
    "for _ in range(n_permutations):\n",
    "    # Shuffle the Genre attribute among nodes\n",
    "    G_permu = G_largest_cc.copy()\n",
    "    genres = [G_permu.nodes[n]['Genre'] for n in G_permu.nodes()]\n",
    "    np.random.shuffle(genres)\n",
    "    \n",
    "    # Assign the shuffled genres back to the nodes\n",
    "    for n, genre in zip(G_permu.nodes(), genres):\n",
    "        G_permu.nodes[n]['Genre'] = genre\n",
    "    \n",
    "    # Calculate assortativity coefficient for the permuted graph\n",
    "    coeff = nx.attribute_assortativity_coefficient(G_permu, 'Genre')\n",
    "    permuted_coefficients.append(coeff)\n",
    "\n",
    "# Calculate the p-value\n",
    "p_value = sum(1 for coeff in permuted_coefficients if coeff >= original_coefficient) / n_permutations\n",
    "# (np.sum([result >= original_coefficient for result in permuted_coefficients]) + 1) / (1000 + 1)\n",
    "\n",
    "print(f\"Original Coefficient: {original_coefficient}\")\n",
    "print(f\"P-Value: {p_value}\")\n",
    "\n",
    "if p_value <= 0.05:\n",
    "    print(f\"significant\")\n",
    "else:\n",
    "    print(f\"There is no significant difference\")\n"
   ]
  },
  {
   "cell_type": "markdown",
   "metadata": {},
   "source": [
    "### Permutation test of Decade"
   ]
  },
  {
   "cell_type": "code",
   "execution_count": 263,
   "metadata": {},
   "outputs": [
    {
     "name": "stdout",
     "output_type": "stream",
     "text": [
      "Original Coefficient: 0.11670078205832192\n",
      "P-Value: 0.0\n",
      "significant\n"
     ]
    }
   ],
   "source": [
    "original_coefficient = nx.attribute_assortativity_coefficient(G_largest_cc, 'Decade')\n",
    "\n",
    "# Number of permutations\n",
    "n_permutations = 1000\n",
    "permuted_coefficients = []\n",
    "\n",
    "for _ in range(n_permutations):\n",
    "    # Shuffle the Year attribute among nodes\n",
    "    G_permu = G_largest_cc.copy()\n",
    "    genres = [G_permu.nodes[n]['Decade'] for n in G_permu.nodes()]\n",
    "    np.random.shuffle(genres)\n",
    "    \n",
    "    # Assign the shuffled genres back to the nodes\n",
    "    for n, genre in zip(G_permu.nodes(), genres):\n",
    "        G_permu.nodes[n]['Decade'] = genre\n",
    "    \n",
    "    # Calculate assortativity coefficient for the permuted graph\n",
    "    coeff = nx.attribute_assortativity_coefficient(G_permu, 'Decade')\n",
    "    permuted_coefficients.append(coeff)\n",
    "\n",
    "# Calculate the p-value\n",
    "p_value = sum(1 for coeff in permuted_coefficients if coeff >= original_coefficient) / n_permutations\n",
    "# (np.sum([result >= original_coefficient for result in permuted_coefficients]) + 1) / (1000 + 1)\n",
    "\n",
    "print(f\"Original Coefficient: {original_coefficient}\")\n",
    "print(f\"P-Value: {p_value}\")\n",
    "\n",
    "if p_value <= 0.05:\n",
    "    print(f\"significant\")\n",
    "else:\n",
    "    print(f\"There is no significant difference\")\n"
   ]
  },
  {
   "cell_type": "markdown",
   "metadata": {},
   "source": [
    "# Communities "
   ]
  },
  {
   "cell_type": "code",
   "execution_count": 137,
   "metadata": {},
   "outputs": [],
   "source": [
    "communities = cl.best_partition(G_largest_cc, random_state=42)"
   ]
  },
  {
   "cell_type": "code",
   "execution_count": 139,
   "metadata": {},
   "outputs": [
    {
     "name": "stdout",
     "output_type": "stream",
     "text": [
      "The algorithm found 28 communities in total\n"
     ]
    }
   ],
   "source": [
    "print('The algorithm found', len(np.unique(list(communities.values()))), 'communities in total')"
   ]
  },
  {
   "cell_type": "code",
   "execution_count": 140,
   "metadata": {},
   "outputs": [
    {
     "name": "stdout",
     "output_type": "stream",
     "text": [
      "The value of modularity is: 0.55\n"
     ]
    }
   ],
   "source": [
    "modularity = community.modularity(communities, G_largest_cc)\n",
    "print('The value of modularity is:', round(modularity,2))"
   ]
  },
  {
   "cell_type": "code",
   "execution_count": 143,
   "metadata": {},
   "outputs": [
    {
     "data": {
      "text/plain": [
       "9     311\n",
       "22    287\n",
       "0     261\n",
       "21    232\n",
       "11    180\n",
       "4     178\n",
       "17    175\n",
       "1     171\n",
       "18    163\n",
       "3     158\n",
       "26    157\n",
       "13    143\n",
       "8     140\n",
       "15    140\n",
       "5     135\n",
       "16    124\n",
       "6     122\n",
       "10    120\n",
       "12    120\n",
       "14    115\n",
       "25    109\n",
       "23    105\n",
       "19     99\n",
       "7      96\n",
       "24     68\n",
       "2      58\n",
       "20     38\n",
       "27     24\n",
       "dtype: int64"
      ]
     },
     "execution_count": 143,
     "metadata": {},
     "output_type": "execute_result"
    }
   ],
   "source": [
    "community_count"
   ]
  },
  {
   "cell_type": "code",
   "execution_count": 142,
   "metadata": {},
   "outputs": [
    {
     "ename": "ImportError",
     "evalue": "cannot import name '_png' from 'matplotlib' (/opt/anaconda3/lib/python3.8/site-packages/matplotlib/__init__.py)",
     "output_type": "error",
     "traceback": [
      "\u001b[0;31m---------------------------------------------------------------------------\u001b[0m",
      "\u001b[0;31mImportError\u001b[0m                               Traceback (most recent call last)",
      "\u001b[0;32m/opt/anaconda3/lib/python3.8/site-packages/IPython/core/formatters.py\u001b[0m in \u001b[0;36m__call__\u001b[0;34m(self, obj)\u001b[0m\n\u001b[1;32m    339\u001b[0m                 \u001b[0;32mpass\u001b[0m\u001b[0;34m\u001b[0m\u001b[0;34m\u001b[0m\u001b[0m\n\u001b[1;32m    340\u001b[0m             \u001b[0;32melse\u001b[0m\u001b[0;34m:\u001b[0m\u001b[0;34m\u001b[0m\u001b[0;34m\u001b[0m\u001b[0m\n\u001b[0;32m--> 341\u001b[0;31m                 \u001b[0;32mreturn\u001b[0m \u001b[0mprinter\u001b[0m\u001b[0;34m(\u001b[0m\u001b[0mobj\u001b[0m\u001b[0;34m)\u001b[0m\u001b[0;34m\u001b[0m\u001b[0;34m\u001b[0m\u001b[0m\n\u001b[0m\u001b[1;32m    342\u001b[0m             \u001b[0;31m# Finally look for special method names\u001b[0m\u001b[0;34m\u001b[0m\u001b[0;34m\u001b[0m\u001b[0;34m\u001b[0m\u001b[0m\n\u001b[1;32m    343\u001b[0m             \u001b[0mmethod\u001b[0m \u001b[0;34m=\u001b[0m \u001b[0mget_real_method\u001b[0m\u001b[0;34m(\u001b[0m\u001b[0mobj\u001b[0m\u001b[0;34m,\u001b[0m \u001b[0mself\u001b[0m\u001b[0;34m.\u001b[0m\u001b[0mprint_method\u001b[0m\u001b[0;34m)\u001b[0m\u001b[0;34m\u001b[0m\u001b[0;34m\u001b[0m\u001b[0m\n",
      "\u001b[0;32m/opt/anaconda3/lib/python3.8/site-packages/IPython/core/pylabtools.py\u001b[0m in \u001b[0;36m<lambda>\u001b[0;34m(fig)\u001b[0m\n\u001b[1;32m    246\u001b[0m \u001b[0;34m\u001b[0m\u001b[0m\n\u001b[1;32m    247\u001b[0m     \u001b[0;32mif\u001b[0m \u001b[0;34m'png'\u001b[0m \u001b[0;32min\u001b[0m \u001b[0mformats\u001b[0m\u001b[0;34m:\u001b[0m\u001b[0;34m\u001b[0m\u001b[0;34m\u001b[0m\u001b[0m\n\u001b[0;32m--> 248\u001b[0;31m         \u001b[0mpng_formatter\u001b[0m\u001b[0;34m.\u001b[0m\u001b[0mfor_type\u001b[0m\u001b[0;34m(\u001b[0m\u001b[0mFigure\u001b[0m\u001b[0;34m,\u001b[0m \u001b[0;32mlambda\u001b[0m \u001b[0mfig\u001b[0m\u001b[0;34m:\u001b[0m \u001b[0mprint_figure\u001b[0m\u001b[0;34m(\u001b[0m\u001b[0mfig\u001b[0m\u001b[0;34m,\u001b[0m \u001b[0;34m'png'\u001b[0m\u001b[0;34m,\u001b[0m \u001b[0;34m**\u001b[0m\u001b[0mkwargs\u001b[0m\u001b[0;34m)\u001b[0m\u001b[0;34m)\u001b[0m\u001b[0;34m\u001b[0m\u001b[0;34m\u001b[0m\u001b[0m\n\u001b[0m\u001b[1;32m    249\u001b[0m     \u001b[0;32mif\u001b[0m \u001b[0;34m'retina'\u001b[0m \u001b[0;32min\u001b[0m \u001b[0mformats\u001b[0m \u001b[0;32mor\u001b[0m \u001b[0;34m'png2x'\u001b[0m \u001b[0;32min\u001b[0m \u001b[0mformats\u001b[0m\u001b[0;34m:\u001b[0m\u001b[0;34m\u001b[0m\u001b[0;34m\u001b[0m\u001b[0m\n\u001b[1;32m    250\u001b[0m         \u001b[0mpng_formatter\u001b[0m\u001b[0;34m.\u001b[0m\u001b[0mfor_type\u001b[0m\u001b[0;34m(\u001b[0m\u001b[0mFigure\u001b[0m\u001b[0;34m,\u001b[0m \u001b[0;32mlambda\u001b[0m \u001b[0mfig\u001b[0m\u001b[0;34m:\u001b[0m \u001b[0mretina_figure\u001b[0m\u001b[0;34m(\u001b[0m\u001b[0mfig\u001b[0m\u001b[0;34m,\u001b[0m \u001b[0;34m**\u001b[0m\u001b[0mkwargs\u001b[0m\u001b[0;34m)\u001b[0m\u001b[0;34m)\u001b[0m\u001b[0;34m\u001b[0m\u001b[0;34m\u001b[0m\u001b[0m\n",
      "\u001b[0;32m/opt/anaconda3/lib/python3.8/site-packages/IPython/core/pylabtools.py\u001b[0m in \u001b[0;36mprint_figure\u001b[0;34m(fig, fmt, bbox_inches, **kwargs)\u001b[0m\n\u001b[1;32m    130\u001b[0m         \u001b[0mFigureCanvasBase\u001b[0m\u001b[0;34m(\u001b[0m\u001b[0mfig\u001b[0m\u001b[0;34m)\u001b[0m\u001b[0;34m\u001b[0m\u001b[0;34m\u001b[0m\u001b[0m\n\u001b[1;32m    131\u001b[0m \u001b[0;34m\u001b[0m\u001b[0m\n\u001b[0;32m--> 132\u001b[0;31m     \u001b[0mfig\u001b[0m\u001b[0;34m.\u001b[0m\u001b[0mcanvas\u001b[0m\u001b[0;34m.\u001b[0m\u001b[0mprint_figure\u001b[0m\u001b[0;34m(\u001b[0m\u001b[0mbytes_io\u001b[0m\u001b[0;34m,\u001b[0m \u001b[0;34m**\u001b[0m\u001b[0mkw\u001b[0m\u001b[0;34m)\u001b[0m\u001b[0;34m\u001b[0m\u001b[0;34m\u001b[0m\u001b[0m\n\u001b[0m\u001b[1;32m    133\u001b[0m     \u001b[0mdata\u001b[0m \u001b[0;34m=\u001b[0m \u001b[0mbytes_io\u001b[0m\u001b[0;34m.\u001b[0m\u001b[0mgetvalue\u001b[0m\u001b[0;34m(\u001b[0m\u001b[0;34m)\u001b[0m\u001b[0;34m\u001b[0m\u001b[0;34m\u001b[0m\u001b[0m\n\u001b[1;32m    134\u001b[0m     \u001b[0;32mif\u001b[0m \u001b[0mfmt\u001b[0m \u001b[0;34m==\u001b[0m \u001b[0;34m'svg'\u001b[0m\u001b[0;34m:\u001b[0m\u001b[0;34m\u001b[0m\u001b[0;34m\u001b[0m\u001b[0m\n",
      "\u001b[0;32m/opt/anaconda3/lib/python3.8/site-packages/matplotlib/backend_bases.py\u001b[0m in \u001b[0;36mprint_figure\u001b[0;34m(self, filename, dpi, facecolor, edgecolor, orientation, format, bbox_inches, **kwargs)\u001b[0m\n\u001b[1;32m   2089\u001b[0m         \u001b[0mBy\u001b[0m \u001b[0mdefault\u001b[0m\u001b[0;34m,\u001b[0m \u001b[0mthis\u001b[0m \u001b[0;32mis\u001b[0m \u001b[0;36m1\u001b[0m\u001b[0;34m,\u001b[0m \u001b[0mmeaning\u001b[0m \u001b[0mphysical\u001b[0m \u001b[0;32mand\u001b[0m \u001b[0mlogical\u001b[0m \u001b[0mpixels\u001b[0m \u001b[0mare\u001b[0m \u001b[0mthe\u001b[0m \u001b[0msame\u001b[0m\u001b[0;34m\u001b[0m\u001b[0;34m\u001b[0m\u001b[0m\n\u001b[1;32m   2090\u001b[0m         \u001b[0msize\u001b[0m\u001b[0;34m.\u001b[0m \u001b[0mSubclasses\u001b[0m \u001b[0mthat\u001b[0m \u001b[0msupport\u001b[0m \u001b[0mHigh\u001b[0m \u001b[0mDPI\u001b[0m \u001b[0mscreens\u001b[0m \u001b[0mmay\u001b[0m \u001b[0mset\u001b[0m \u001b[0mthis\u001b[0m \u001b[0mproperty\u001b[0m \u001b[0mto\u001b[0m\u001b[0;34m\u001b[0m\u001b[0;34m\u001b[0m\u001b[0m\n\u001b[0;32m-> 2091\u001b[0;31m         \u001b[0mindicate\u001b[0m \u001b[0mthat\u001b[0m \u001b[0msaid\u001b[0m \u001b[0mratio\u001b[0m \u001b[0;32mis\u001b[0m \u001b[0mdifferent\u001b[0m\u001b[0;34m.\u001b[0m \u001b[0mAll\u001b[0m \u001b[0mMatplotlib\u001b[0m \u001b[0minteraction\u001b[0m\u001b[0;34m,\u001b[0m\u001b[0;34m\u001b[0m\u001b[0;34m\u001b[0m\u001b[0m\n\u001b[0m\u001b[1;32m   2092\u001b[0m         \u001b[0munless\u001b[0m \u001b[0mworking\u001b[0m \u001b[0mdirectly\u001b[0m \u001b[0;32mwith\u001b[0m \u001b[0mthe\u001b[0m \u001b[0mcanvas\u001b[0m\u001b[0;34m,\u001b[0m \u001b[0mremains\u001b[0m \u001b[0;32min\u001b[0m \u001b[0mlogical\u001b[0m \u001b[0mpixels\u001b[0m\u001b[0;34m.\u001b[0m\u001b[0;34m\u001b[0m\u001b[0;34m\u001b[0m\u001b[0m\n\u001b[1;32m   2093\u001b[0m \u001b[0;34m\u001b[0m\u001b[0m\n",
      "\u001b[0;32m/opt/anaconda3/lib/python3.8/site-packages/matplotlib/backend_bases.py\u001b[0m in \u001b[0;36m_get_renderer\u001b[0;34m(figure, print_method)\u001b[0m\n\u001b[1;32m   1558\u001b[0m         \u001b[0mevent\u001b[0m\u001b[0;34m.\u001b[0m\u001b[0mkey\u001b[0m \u001b[0;34m=\u001b[0m \u001b[0mevent\u001b[0m\u001b[0;34m.\u001b[0m\u001b[0mcanvas\u001b[0m\u001b[0;34m.\u001b[0m\u001b[0m_key\u001b[0m\u001b[0;34m\u001b[0m\u001b[0;34m\u001b[0m\u001b[0m\n\u001b[1;32m   1559\u001b[0m     \u001b[0;31m# Emit axes_enter/axes_leave.\u001b[0m\u001b[0;34m\u001b[0m\u001b[0;34m\u001b[0m\u001b[0;34m\u001b[0m\u001b[0m\n\u001b[0;32m-> 1560\u001b[0;31m     \u001b[0;32mif\u001b[0m \u001b[0mevent\u001b[0m\u001b[0;34m.\u001b[0m\u001b[0mname\u001b[0m \u001b[0;34m==\u001b[0m \u001b[0;34m\"motion_notify_event\"\u001b[0m\u001b[0;34m:\u001b[0m\u001b[0;34m\u001b[0m\u001b[0;34m\u001b[0m\u001b[0m\n\u001b[0m\u001b[1;32m   1561\u001b[0m         \u001b[0mlast\u001b[0m \u001b[0;34m=\u001b[0m \u001b[0mLocationEvent\u001b[0m\u001b[0;34m.\u001b[0m\u001b[0mlastevent\u001b[0m\u001b[0;34m\u001b[0m\u001b[0;34m\u001b[0m\u001b[0m\n\u001b[1;32m   1562\u001b[0m         \u001b[0mlast_axes\u001b[0m \u001b[0;34m=\u001b[0m \u001b[0mlast\u001b[0m\u001b[0;34m.\u001b[0m\u001b[0minaxes\u001b[0m \u001b[0;32mif\u001b[0m \u001b[0mlast\u001b[0m \u001b[0;32mis\u001b[0m \u001b[0;32mnot\u001b[0m \u001b[0;32mNone\u001b[0m \u001b[0;32melse\u001b[0m \u001b[0;32mNone\u001b[0m\u001b[0;34m\u001b[0m\u001b[0;34m\u001b[0m\u001b[0m\n",
      "\u001b[0;32m/opt/anaconda3/lib/python3.8/site-packages/matplotlib/backends/backend_agg.py\u001b[0m in \u001b[0;36mprint_png\u001b[0;34m(self, filename_or_obj, metadata, pil_kwargs, *args, **kwargs)\u001b[0m\n\u001b[1;32m    503\u001b[0m         \u001b[0mpil_kwargs\u001b[0m \u001b[0;34m:\u001b[0m \u001b[0mdict\u001b[0m\u001b[0;34m,\u001b[0m \u001b[0moptional\u001b[0m\u001b[0;34m\u001b[0m\u001b[0;34m\u001b[0m\u001b[0m\n\u001b[1;32m    504\u001b[0m             \u001b[0mKeyword\u001b[0m \u001b[0marguments\u001b[0m \u001b[0mpassed\u001b[0m \u001b[0mto\u001b[0m\u001b[0;31m \u001b[0m\u001b[0;31m`\u001b[0m\u001b[0mPIL\u001b[0m\u001b[0;34m.\u001b[0m\u001b[0mImage\u001b[0m\u001b[0;34m.\u001b[0m\u001b[0mImage\u001b[0m\u001b[0;34m.\u001b[0m\u001b[0msave\u001b[0m\u001b[0;31m`\u001b[0m\u001b[0;34m.\u001b[0m\u001b[0;34m\u001b[0m\u001b[0;34m\u001b[0m\u001b[0m\n\u001b[0;32m--> 505\u001b[0;31m \u001b[0;34m\u001b[0m\u001b[0m\n\u001b[0m\u001b[1;32m    506\u001b[0m             \u001b[0mIf\u001b[0m \u001b[0mthe\u001b[0m \u001b[0;34m'pnginfo'\u001b[0m \u001b[0mkey\u001b[0m \u001b[0;32mis\u001b[0m \u001b[0mpresent\u001b[0m\u001b[0;34m,\u001b[0m \u001b[0mit\u001b[0m \u001b[0mcompletely\u001b[0m \u001b[0moverrides\u001b[0m\u001b[0;34m\u001b[0m\u001b[0;34m\u001b[0m\u001b[0m\n\u001b[1;32m    507\u001b[0m             \u001b[0;34m*\u001b[0m\u001b[0mmetadata\u001b[0m\u001b[0;34m*\u001b[0m\u001b[0;34m,\u001b[0m \u001b[0mincluding\u001b[0m \u001b[0mthe\u001b[0m \u001b[0mdefault\u001b[0m \u001b[0;34m'Software'\u001b[0m \u001b[0mkey\u001b[0m\u001b[0;34m.\u001b[0m\u001b[0;34m\u001b[0m\u001b[0;34m\u001b[0m\u001b[0m\n",
      "\u001b[0;31mImportError\u001b[0m: cannot import name '_png' from 'matplotlib' (/opt/anaconda3/lib/python3.8/site-packages/matplotlib/__init__.py)"
     ]
    },
    {
     "data": {
      "text/plain": [
       "<Figure size 1152x432 with 1 Axes>"
      ]
     },
     "metadata": {
      "needs_background": "light"
     },
     "output_type": "display_data"
    }
   ],
   "source": [
    "# Count number of rappers in each comunity\n",
    "community_count = pd.Series(list(communities.values())).value_counts()\n",
    "\n",
    "# Plot the distribution of community with size of nodes\n",
    "plt.figure(figsize = (16,6))\n",
    "#plt.bar(community_count.index, community_count.values, color ='blue')\n",
    "plt.bar(community_count.index, community_count.values, align='center')\n",
    "# Count the nodes in community\n",
    "for index, value in zip(community_count.index, community_count.values):\n",
    "    plt.text(index, value+0.1, str(value), ha='center', va='bottom')\n",
    "\n",
    "    \n",
    "plt.ylabel('Number of nodes (rappers) in  each community')\n",
    "plt.xlabel('Community number')\n",
    "plt.title('Distribution of nodes (rappers) in the communities', fontweight=\"bold\") #fontsize=16, \n",
    "plt.suptitle(\"Figure 7\", fontsize=16, fontweight=\"bold\")\n",
    "plt.xticks(community_count.index)\n",
    "\n",
    "plt.show()"
   ]
  }
 ],
 "metadata": {
  "kernelspec": {
   "display_name": "base",
   "language": "python",
   "name": "python3"
  },
  "language_info": {
   "codemirror_mode": {
    "name": "ipython",
    "version": 3
   },
   "file_extension": ".py",
   "mimetype": "text/x-python",
   "name": "python",
   "nbconvert_exporter": "python",
   "pygments_lexer": "ipython3",
   "version": "3.8.8"
  }
 },
 "nbformat": 4,
 "nbformat_minor": 2
}
